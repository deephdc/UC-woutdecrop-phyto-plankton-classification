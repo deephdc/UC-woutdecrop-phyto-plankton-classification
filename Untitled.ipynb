{
 "cells": [
  {
   "cell_type": "code",
   "execution_count": 1,
   "id": "e7bd9ce1-537d-43ea-9e3f-b116a5acc1b6",
   "metadata": {},
   "outputs": [],
   "source": [
    "import zipfile\n",
    "import os\n",
    "import tempfile\n",
    "\n",
    "def predict(**args):\n",
    "    if not any([args[\"urls\"], args[\"files\"], args[\"zip\"]]):\n",
    "        raise Exception(\"You must provide either 'urls', 'files', or 'zip' in the payload\")\n",
    "\n",
    "    if args[\"zip\"]:\n",
    "        # Check if zip file is provided\n",
    "        zip_file = args[\"zip\"]\n",
    "\n",
    "        # Create a temporary directory to extract the files\n",
    "        with tempfile.TemporaryDirectory() as temp_dir:\n",
    "            # Extract the zip file\n",
    "            with zipfile.ZipFile(zip_file, 'r') as zip_ref:\n",
    "                zip_ref.extractall(temp_dir)\n",
    "\n",
    "            # Get the list of files extracted from the zip\n",
    "            folder_files = os.listdir(temp_dir)\n",
    "\n",
    "            # Assign the list of files to args[\"files\"]\n",
    "            args[\"files\"] = [os.path.join(temp_dir, file) for file in folder_files]\n",
    "\n",
    "            # Call predict_data function (assuming it handles a list of files)\n",
    "            return predict_data(args)\n",
    "\n",
    "    elif args[\"files\"]:\n",
    "        args[\"files\"] = [args[\"files\"]]  # patch until list is available\n",
    "        return predict_data(args)\n",
    "\n",
    "    elif args[\"urls\"]:\n",
    "        args[\"urls\"] = [args[\"urls\"]]  # patch until list is available\n",
    "        return predict_url(args)\n",
    "\n",
    "# Define predict_data and predict_url functions here\n",
    "\n"
   ]
  },
  {
   "cell_type": "code",
   "execution_count": 4,
   "id": "324b4219-cf29-4391-8e3b-456e106c1295",
   "metadata": {},
   "outputs": [],
   "source": [
    "zip_file = '/srv/phyto-plankton-classification/zip_file.zip'\n",
    "# Create a temporary directory to extract the files\n",
    "with tempfile.TemporaryDirectory() as temp_dir:\n",
    "    # Extract the zip file\n",
    "    with zipfile.ZipFile(zip_file, 'r') as zip_ref:\n",
    "        zip_ref.extractall(temp_dir)\n",
    "\n",
    "    # Get the list of files extracted from the zip\n",
    "    folder_files = os.listdir(temp_dir)\n",
    "\n",
    "    # Assign the list of files to args[\"files\"]\n",
    "    out = [os.path.join(temp_dir, file) for file in folder_files]\n",
    "\n",
    "    # Call predict_data function (assuming it handles a list of files)\n",
    "    # return predict_data(args)\n"
   ]
  },
  {
   "cell_type": "code",
   "execution_count": 5,
   "id": "8312f115-6fa1-4155-8aae-cddbf9809348",
   "metadata": {},
   "outputs": [
    {
     "data": {
      "text/plain": [
       "['/tmp/tmp7nzppy89/ecotaxa_Bacillariophyceae_00CBE003-1D2A-4D44-990A-D19A9FE86744.jpg',\n",
       " '/tmp/tmp7nzppy89/ecotaxa_Bacillariophyceae_00B01512-2227-4CE4-B579-5E37E9F5783F.jpg',\n",
       " '/tmp/tmp7nzppy89/ecotaxa_Bacillariophyceae_00B7B545-DDB1-493D-9CF4-66A0AF9D116E.jpg',\n",
       " '/tmp/tmp7nzppy89/ecotaxa_Bacillariophyceae_00A38A05-CCDE-4064-95E8-61B523946DB4.jpg']"
      ]
     },
     "execution_count": 5,
     "metadata": {},
     "output_type": "execute_result"
    }
   ],
   "source": [
    "out"
   ]
  }
 ],
 "metadata": {
  "kernelspec": {
   "display_name": "Python 3",
   "language": "python",
   "name": "python3"
  },
  "language_info": {
   "codemirror_mode": {
    "name": "ipython",
    "version": 3
   },
   "file_extension": ".py",
   "mimetype": "text/x-python",
   "name": "python",
   "nbconvert_exporter": "python",
   "pygments_lexer": "ipython3",
   "version": "3.6.8"
  }
 },
 "nbformat": 4,
 "nbformat_minor": 5
}
