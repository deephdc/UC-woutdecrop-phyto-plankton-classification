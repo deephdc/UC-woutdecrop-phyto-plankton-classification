{
 "cells": [
  {
   "attachments": {},
   "cell_type": "markdown",
   "metadata": {},
   "source": [
    "# Exploration phase (**optional**)\n",
    "\n",
    "In this exploration phase we will visualize some features of your dataset to help you make more informed decisitions in case you want to **adapt the default parameters** to your dataset.\n",
    "\n",
    "You can always skip this part and go with the default parameters but if you want to have a classifier as efficient as possible you should consider spending five minutes running this analysis."
   ]
  },
  {
   "attachments": {},
   "cell_type": "markdown",
   "metadata": {},
   "source": [
    "## 1.1 Distribution of classes\n",
    "**Relevant parameters:** `use_class_weights`\n",
    "\n",
    "We can visualize the distributions of the classes to check is the dataset is highly imbalanced."
   ]
  },
  {
   "cell_type": "code",
   "execution_count": null,
   "metadata": {},
   "outputs": [],
   "source": [
    "\n",
    "import os\n",
    "\n",
    "import matplotlib.pylab as plt\n",
    "import numpy as np\n",
    "from tqdm import tqdm\n",
    "\n",
    "import planktonclas\n",
    "from planktonclas import paths, config\n",
    "from planktonclas.data_utils import load_image, load_data_splits, augment, load_class_names\n",
    "import numpy as np\n",
    "import matplotlib.pyplot as plt\n",
    "from collections import Counter\n",
    "\n",
    "CONF = config.get_conf_dict()\n",
    "\n",
    "# Customize your image folder if needed\n",
    "# CONF['general']['images_directory'] = '/media/ignacio/Datos/datasets/semillas/datasets'  # absolute path to image_folder\n",
    "\n",
    "splits_dir = paths.get_splits_dir()\n",
    "\n",
    "# Load the training data\n",
    "X_train, y_train = load_data_splits(splits_dir=splits_dir,\n",
    "                                    im_dir=CONF['general']['images_directory'],\n",
    "                                    split_name='train')\n",
    "\n",
    "# Load the validation data\n",
    "if (CONF['training']['use_validation']) and ('val.txt' in os.listdir(splits_dir)):\n",
    "    X_val, y_val = load_data_splits(splits_dir=splits_dir,\n",
    "                                    im_dir=CONF['general']['images_directory'],\n",
    "                                    split_name='val')\n",
    "else:\n",
    "    print('No validation data.')\n",
    "    X_val, y_val = None, None\n",
    "    CONF['training']['use_validation'] = False\n",
    "\n",
    "    \n",
    "if (CONF['testing']['use_test']) and ('test.txt' in os.listdir(splits_dir)):\n",
    "    X_test, y_test = load_data_splits(splits_dir=splits_dir,\n",
    "                                    im_dir=CONF['general']['images_directory'],\n",
    "                                    split_name='test')\n",
    "else:\n",
    "    print('No validation data.')\n",
    "    X_test, y_test = None, None\n",
    "    CONF['training']['use_test'] = False\n",
    "    \n",
    "# Load the class names\n",
    "class_names = load_class_names(splits_dir=splits_dir)"
   ]
  },
  {
   "cell_type": "code",
   "execution_count": null,
   "metadata": {},
   "outputs": [],
   "source": [
    "\n",
    "\n",
    "\n",
    "\n",
    "# Concatenate the datasets\n",
    "all_data = np.concatenate((X_train, X_test, X_val))\n",
    "\n",
    "# Extract class names from file paths for all datasets\n",
    "class_names_all = [path.split('/')[-2] for path in all_data]\n",
    "\n",
    "# Count occurrences of each class for all datasets\n",
    "class_counts_all = Counter(class_names_all)\n",
    "\n",
    "# Extract class names and counts for all datasets\n",
    "classes_all = list(class_counts_all.keys())\n",
    "counts_all = list(class_counts_all.values())\n",
    "\n",
    "# Plot histogram for all datasets combined\n",
    "plt.figure(figsize=(20, 8))\n",
    "plt.bar(classes_all, counts_all, color='skyblue')\n",
    "plt.xlabel('Class Names')\n",
    "plt.ylabel('Frequency')\n",
    "plt.title('Total Class Distribution Histogram')\n",
    "plt.xticks(rotation=45, ha='right')  # Rotate x-axis labels for better readability\n",
    "plt.tight_layout()\n",
    "plt.show()\n",
    "\n",
    "# Plot histogram for each dataset separately\n",
    "datasets = {'X_train': X_train, 'X_test': X_test, 'X_val': X_val}\n",
    "for dataset_name, dataset in datasets.items():\n",
    "    class_names = [path.split('/')[-2] for path in dataset]\n",
    "    class_counts = Counter(class_names)\n",
    "    classes = list(class_counts.keys())\n",
    "    counts = list(class_counts.values())\n",
    "\n",
    "    plt.figure(figsize=(20, 8))\n",
    "    plt.bar(classes, counts, color='skyblue')\n",
    "    plt.xlabel('Class Names')\n",
    "    plt.ylabel('Frequency')\n",
    "    plt.title(f'{dataset_name} Class Distribution Histogram')\n",
    "    plt.xticks(rotation=45, ha='right')  # Rotate x-axis labels for better readability\n",
    "    plt.tight_layout()\n",
    "    plt.show()"
   ]
  },
  {
   "cell_type": "code",
   "execution_count": 20,
   "metadata": {},
   "outputs": [
    {
     "name": "stdout",
     "output_type": "stream",
     "text": [
      "Max Training: 8060.0\n",
      "Min Training: 9.0\n",
      "Mean Training: 2529.0102040816328\n",
      "Median Training: 689.5\n",
      "\n",
      "\n",
      "Max Validation: 1054.0\n",
      "Min Validation: 1.0\n",
      "Mean Validation: 316.1326530612245\n",
      "Median Validation: 91.0\n",
      "\n",
      "\n"
     ]
    },
    {
     "data": {
      "image/png": "[encoded data removed]",
      "text/plain": [
       "<Figure size 1440x360 with 2 Axes>"
      ]
     },
     "metadata": {
      "needs_background": "light"
     },
     "output_type": "display_data"
    }
   ],
   "source": [
    "# Define some parameters\n",
    "log_scale = False\n",
    "show_names = False\n",
    "\n",
    "# Plot the histograms\n",
    "fig, axs = plt.subplots(1, 2, figsize=(20,5))\n",
    "\n",
    "def plot_hist(ax, y, set_name=''):\n",
    "    n, bins, patches = ax.hist(y, bins=len(class_names), log=log_scale)\n",
    "    mean, med = np.mean(n), np.median(n)\n",
    "    ax.axhline(mean, linestyle= '--', color='#ce9b3b', label='mean')\n",
    "    ax.axhline(med, linestyle= '--', color='#fc0c70', label='median')\n",
    "    ax.set_title('{} set'.format(set_name))\n",
    "    ax.legend()\n",
    "    if show_names:\n",
    "        ax.set_xticks(range(len(class_names)))\n",
    "        ax.set_xticklabels(class_names, rotation='vertical')\n",
    "\n",
    "    print('Max {}: {}'.format(set_name, np.amax(n)))\n",
    "    print('Min {}: {}'.format(set_name, np.amin(n)))\n",
    "    print('Mean {}: {}'.format(set_name, mean))\n",
    "    print('Median {}: {}'.format(set_name, med))\n",
    "    print('\\n')\n",
    "\n",
    "plot_hist(axs[0], y_train, set_name='Training')\n",
    "\n",
    "axs[1].set_title('Validation set')\n",
    "if y_val is not None:\n",
    "    plot_hist(axs[1], y_val, set_name='Validation')"
   ]
  },
  {
   "attachments": {},
   "cell_type": "markdown",
   "metadata": {},
   "source": [
    "So if your dataset is **very** imbalanced you can consider setting the `use_class_weights` to `True` to compensate for this imbalance during the training."
   ]
  },
  {
   "attachments": {},
   "cell_type": "markdown",
   "metadata": {},
   "source": [
    "## 1.2 Distribution of image sizes\n",
    "**Relevant parameters:** `im_size`\n",
    "\n",
    "We can visualize how the sizes of your images are tipically distributed in case you want to use a bigger image size resolution than the default."
   ]
  },
  {
   "cell_type": "code",
   "execution_count": 56,
   "metadata": {},
   "outputs": [
    {
     "name": "stderr",
     "output_type": "stream",
     "text": [
      "100%|██████████| 246249/246249 [29:24<00:00, 139.58it/s]\n"
     ]
    }
   ],
   "source": [
    "# Load all images and retrieve their shapes\n",
    "height, width = [], []\n",
    "for img_path in tqdm(X_train):\n",
    "    img = load_image(img_path)\n",
    "    w, h, channels = img.shape\n",
    "    width.append(w)\n",
    "    height.append(h)"
   ]
  },
  {
   "cell_type": "code",
   "execution_count": 57,
   "metadata": {},
   "outputs": [
    {
     "name": "stdout",
     "output_type": "stream",
     "text": [
      "Max Heights: 987\n",
      "Min Heights: 9\n",
      "Mean Heights: 83.7\n",
      "Median Heights: 70.0\n",
      "Heights 5th percentile: 25.0\n",
      "\n",
      "\n",
      "Max Widths: 964\n",
      "Min Widths: 11\n",
      "Mean Widths: 107.7\n",
      "Median Widths: 87.0\n",
      "Widths 5th percentile: 47.0\n",
      "\n",
      "\n",
      "Max Combined: 987\n",
      "Min Combined: 9\n",
      "Mean Combined: 95.7\n",
      "Median Combined: 78.0\n",
      "Combined 5th percentile: 32.0\n",
      "\n",
      "\n"
     ]
    },
    {
     "data": {
      "image/png": "[encoded data removed]",
      "text/plain": [
       "<Figure size 2160x360 with 3 Axes>"
      ]
     },
     "metadata": {
      "needs_background": "light"
     },
     "output_type": "display_data"
    }
   ],
   "source": [
    "# Define some parameters\n",
    "bins = 100\n",
    "log_scale = True\n",
    "lower_percentile = 5\n",
    "\n",
    "def plot_hist(ax, values, set_name=''):\n",
    "    \n",
    "    # Print some stats\n",
    "    mean, med, per = np.mean(values), np.median(values), np.percentile(values, lower_percentile)\n",
    "\n",
    "    print('Max {}: {}'.format(set_name, np.amax(values)))\n",
    "    print('Min {}: {}'.format(set_name, np.amin(values)))\n",
    "    print('Mean {}: {:.1f}'.format(set_name, mean))\n",
    "    print('Median {}: {}'.format(set_name, med))\n",
    "    print('{} {}th percentile: {}'.format(set_name, lower_percentile, per))\n",
    "    print('\\n')\n",
    "      \n",
    "    # Plot the histogram\n",
    "    ax.hist(values, bins=bins, log=log_scale)\n",
    "    ax.set_title('{} histogram'.format(set_name))\n",
    "    ax.axvline(mean, linestyle= '--', color='#ce9b3b', label='mean')\n",
    "    ax.axvline(med, linestyle= '--', color='#fc0c70', label='median')\n",
    "    ax.axvline(per, linestyle= '--', color='#0ea541', label='{}th percentile'.format(lower_percentile))\n",
    "    ax.legend()\n",
    "\n",
    "    \n",
    "fig, axs = plt.subplots(1, 3, figsize=(30,5))\n",
    "axs = axs.flatten()\n",
    "\n",
    "plot_hist(axs[0], height, set_name='Heights')\n",
    "plot_hist(axs[1], width, set_name='Widths')\n",
    "plot_hist(axs[2], height + width, set_name='Combined')"
   ]
  },
  {
   "attachments": {},
   "cell_type": "markdown",
   "metadata": {},
   "source": [
    "So after examining these plots and stats you can consider adapting the parameter `im_size` to better suit your usecase (maybe to a value in between the `Min combined` and the `Combined 5th percentile`).\n",
    "\n",
    "When **increasing** this parameter from the default value you have to consider that:\n",
    "* you keep more details in the image so the accuracy of the model *might* (or might not) increase.\n",
    "* bigger images size means longer training and inference times\n",
    "* bigger images means more model parameters. So it is possible to that model becomes too big to be trained on a GPU. "
   ]
  }
 ],
 "metadata": {
  "kernelspec": {
   "display_name": "Python 3",
   "language": "python",
   "name": "python3"
  }
 },
 "nbformat": 4,
 "nbformat_minor": 2
}
