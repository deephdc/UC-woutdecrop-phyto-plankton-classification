{
 "cells": [
  {
   "cell_type": "code",
   "execution_count": 1,
   "metadata": {},
   "outputs": [
    {
     "name": "stdout",
     "output_type": "stream",
     "text": [
      "Count of values in 'object_annotation_category' column:\n",
      "Rhizosolenia                                                   1458\n",
      "Replicate                                                       873\n",
      "Detritus                                                        858\n",
      "Bellerochea                                                     296\n",
      "Fibers                                                          259\n",
      "Long (chained) diatom                                           251\n",
      "Ditylum brightwellii                                            203\n",
      "Remnant                                                         103\n",
      "Centric Diatom                                                   71\n",
      "Trieres sinensis                                                 60\n",
      "Chaetoceros                                                      50\n",
      "Unknown                                                          49\n",
      "Pseudo-nitzschia                                                 46\n",
      "Bacillariophyceae                                                46\n",
      "Synedra/Thalassionema                                            39\n",
      "Egg/Cyst                                                         34\n",
      "Pennate Diatom                                                   33\n",
      "Guinardia flaccida                                               29\n",
      "Rhizosolenia setigera (f. pungens)/R. hebetata f. semispina      20\n",
      "Asterionella                                                     20\n",
      "Biddulphianae                                                    19\n",
      "Zygoceros                                                        17\n",
      "Bubbles                                                          12\n",
      "Aggregate                                                        11\n",
      "Crustaceae:part                                                  10\n",
      "Nauplii                                                           8\n",
      "Paralia                                                           8\n",
      "Stephanopyxis                                                     8\n",
      "Eucampia                                                          8\n",
      "Proboscia indica                                                  7\n",
      "Sediment                                                          5\n",
      "Skeletonema                                                       5\n",
      "Bacillaria paxillifer                                             4\n",
      "Actinoptychus senarius                                            4\n",
      "Thalassiosira/Porosira                                            4\n",
      "Tintinnina                                                        3\n",
      "Bacteriastrum                                                     3\n",
      "Helicotheca tamesis                                               3\n",
      "Dinoflagellate cyst                                               3\n",
      "Trieres mobiliensis/T. regia                                      3\n",
      "Unknown_3                                                         3\n",
      "Neocalyptrella robusta                                            3\n",
      "Chaetoceros curvisetus/C. pseudocurvisetus                        2\n",
      "Stalked epiphytic diatom                                          2\n",
      "Guinardia striata/Dactyliosolen phuketensis                       2\n",
      "Zooplankton                                                       2\n",
      "Tripos fusus                                                      2\n",
      "Triceratium favus                                                 2\n",
      "Meuniera membranacea                                              1\n",
      "Ciliophora:part                                                   1\n",
      "Copepoda adult                                                    1\n",
      "Dinoflagellata                                                    1\n",
      "Proboscia                                                         1\n",
      "Stellarima stellaris/Podosira/Hyalodiscus                         1\n",
      "Coscinodiscus granii                                              1\n",
      "Lauderia/Melosira/Detonula                                        1\n",
      "Aulacodiscus argus                                                1\n",
      "Name: object_annotation_category, dtype: int64\n",
      "\n",
      "Values in 'classes.txt' file:\n",
      "Lauderia/Melosira/Detonula                                     8000\n",
      "Long (chained) diatom                                          8000\n",
      "Rhizosolenia setigera (f. pungens)/R. hebetata f. semispina    8000\n",
      "Centric Diatom                                                 8000\n",
      "Rhizosolenia                                                   8000\n",
      "                                                               ... \n",
      "Protoperidinium depressum                                        35\n",
      "Amphorellopsis                                                   32\n",
      "Strombidium                                                      26\n",
      "Laboea                                                           17\n",
      "Tripos furca                                                     10\n",
      "Name: object_annotation_category, Length: 98, dtype: int64\n",
      "\n",
      "Matching values between 'object_annotation_category' and 'classes.txt':\n",
      "{'Rhizosolenia setigera (f. pungens)/R. hebetata f. semispina', 'Lauderia/Melosira/Detonula', 'Stephanopyxis', 'Ciliophora:part', 'Dinoflagellate cyst', 'Nauplii', 'Chaetoceros', 'Egg/Cyst', 'Bacteriastrum', 'Copepoda adult', 'Paralia', 'Crustaceae:part', 'Bacillariophyceae', 'Biddulphianae', 'Asterionella', 'Skeletonema', 'Unknown_3', 'Dinoflagellata', 'Guinardia flaccida', 'Pseudo-nitzschia', 'Zooplankton', 'Tripos fusus', 'Tintinnina', 'Guinardia striata/Dactyliosolen phuketensis', 'Meuniera membranacea', 'Helicotheca tamesis', 'Proboscia indica', 'Rhizosolenia', 'Pennate Diatom', 'Bubbles', 'Actinoptychus senarius', 'Detritus', 'Trieres sinensis', 'Centric Diatom', 'Long (chained) diatom', 'Triceratium favus', 'Fibers', 'Bacillaria paxillifer', 'Eucampia', 'Trieres mobiliensis/T. regia', 'Zygoceros', 'Chaetoceros curvisetus/C. pseudocurvisetus', 'Thalassiosira/Porosira', 'Stellarima stellaris/Podosira/Hyalodiscus', 'Synedra/Thalassionema', 'Aulacodiscus argus', 'Ditylum brightwellii', 'Neocalyptrella robusta', 'Coscinodiscus granii'}\n",
      "\n",
      "Number of matching values: 49\n"
     ]
    }
   ],
   "source": [
    "import pandas as pd\n",
    "\n",
    "# Read the TSV file and extract the 'object_annotation_category' column\n",
    "tsv_file_path = r'C:\\Users\\wout.decrop\\project_environment\\module_imagine\\phyto-plankton-classification\\data\\months.tsv'\n",
    "data_months = pd.read_csv(tsv_file_path, sep='\\t')\n",
    "\n",
    "# Count occurrences of each value in 'object_annotation_category' column\n",
    "value_counts_months = data_months['object_annotation_category'].value_counts()\n",
    "\n",
    "# Read the 'classes.txt' file and extract unique values\n",
    "classes_file_path = r'C:\\Users\\wout.decrop\\project_environment\\module_imagine\\phyto-plankton-classification\\data\\ecotaxa_all.tsv'\n",
    "data = pd.read_csv(classes_file_path, sep='\\t')\n",
    "\n",
    "# Count occurrences of each value in 'object_annotation_category' column\n",
    "value_counts = data['object_annotation_category'].value_counts()\n",
    "# classes_values = [value.replace('_', ' ') for value in classes_values]\n",
    "\n",
    "# Display the count of occurrences in the TSV file and compare with 'classes.txt'\n",
    "print(\"Count of values in 'object_annotation_category' column:\")\n",
    "print(value_counts_months )\n",
    "\n",
    "print(\"\\nValues in 'classes.txt' file:\")\n",
    "print(value_counts)\n",
    "\n",
    "# Compare occurrences in 'object_annotation_category' with 'classes.txt'\n",
    "matching_values = set(value_counts_months.index) & set(value_counts.index)\n",
    "print(\"\\nMatching values between 'object_annotation_category' and 'classes.txt':\")\n",
    "print(matching_values)\n",
    "print(f\"\\nNumber of matching values: {len(matching_values)}\")\n",
    "\n",
    "\n"
   ]
  },
  {
   "cell_type": "code",
   "execution_count": 1,
   "metadata": {},
   "outputs": [
    {
     "name": "stdout",
     "output_type": "stream",
     "text": [
      "x = 1778.2794100389228\n"
     ]
    }
   ],
   "source": [
    "import numpy as np\n",
    "\n",
    "log_result = 3.25  # Given log value\n",
    "\n",
    "# Compute x using the exponential function\n",
    "x = np.power(10, log_result)\n",
    "\n",
    "print(\"x =\", x)\n"
   ]
  },
  {
   "cell_type": "code",
   "execution_count": 2,
   "metadata": {},
   "outputs": [
    {
     "data": {
      "text/plain": [
       "106"
      ]
     },
     "execution_count": 2,
     "metadata": {},
     "output_type": "execute_result"
    }
   ],
   "source": [
    "len(set(value_counts.index)) + len(set(value_counts_months.index))-49"
   ]
  },
  {
   "cell_type": "code",
   "execution_count": 15,
   "metadata": {},
   "outputs": [
    {
     "data": {
      "text/plain": [
       "{'Amphorellopsis',\n",
       " 'Cerataulina pelagica',\n",
       " 'Euntintinnus',\n",
       " 'Laboea',\n",
       " 'Odontella rhombus f. trigona',\n",
       " 'Protoperidinium depressum',\n",
       " 'Protoperidinium pentagonum',\n",
       " 'Strombidium',\n",
       " 'Tintinnopsis',\n",
       " 'Tripos furca',\n",
       " 'Tripos lineatus'}"
      ]
     },
     "execution_count": 15,
     "metadata": {},
     "output_type": "execute_result"
    }
   ],
   "source": [
    "set(value_counts.index)- set(classes_values)"
   ]
  },
  {
   "cell_type": "code",
   "execution_count": 13,
   "metadata": {},
   "outputs": [],
   "source": [
    "classes_file_path = r'C:\\Users\\wout.decrop\\project_environment\\module_imagine\\phyto-plankton-classification\\models\\2023-08-07_150556\\dataset_files\\classes.txt'\n",
    "with open(classes_file_path, 'r') as file:\n",
    "    classes_values = file.read().splitlines()"
   ]
  },
  {
   "cell_type": "code",
   "execution_count": 14,
   "metadata": {},
   "outputs": [
    {
     "data": {
      "text/plain": [
       "{'Aggregate',\n",
       " 'Bellerochea',\n",
       " 'Proboscia',\n",
       " 'Remnant',\n",
       " 'Replicate',\n",
       " 'Sediment',\n",
       " 'Stalked epiphytic diatom',\n",
       " 'Unknown'}"
      ]
     },
     "execution_count": 14,
     "metadata": {},
     "output_type": "execute_result"
    }
   ],
   "source": [
    "set(value_counts_months.index) - set(classes_values)"
   ]
  },
  {
   "cell_type": "code",
   "execution_count": 12,
   "metadata": {},
   "outputs": [
    {
     "data": {
      "text/plain": [
       "{'Aggregate',\n",
       " 'Bellerochea',\n",
       " 'Proboscia',\n",
       " 'Remnant',\n",
       " 'Replicate',\n",
       " 'Sediment',\n",
       " 'Stalked epiphytic diatom',\n",
       " 'Unknown'}"
      ]
     },
     "execution_count": 12,
     "metadata": {},
     "output_type": "execute_result"
    }
   ],
   "source": [
    "set(value_counts_months.index) - set(value_counts.index)"
   ]
  },
  {
   "cell_type": "code",
   "execution_count": 3,
   "metadata": {},
   "outputs": [],
   "source": [
    "classes_values=value_counts_months.index"
   ]
  },
  {
   "cell_type": "code",
   "execution_count": 4,
   "metadata": {},
   "outputs": [],
   "source": [
    "combined_set = sorted(set(value_counts.index) | set(classes_values))\n",
    "\n"
   ]
  },
  {
   "cell_type": "code",
   "execution_count": 7,
   "metadata": {},
   "outputs": [
    {
     "data": {
      "text/plain": [
       "98"
      ]
     },
     "execution_count": 7,
     "metadata": {},
     "output_type": "execute_result"
    }
   ],
   "source": [
    "len(set(value_counts.index))"
   ]
  },
  {
   "cell_type": "code",
   "execution_count": 11,
   "metadata": {},
   "outputs": [
    {
     "data": {
      "text/plain": [
       "{'Actinoptychus',\n",
       " 'Actinoptychus senarius',\n",
       " 'Actinoptychus splendens',\n",
       " 'Amphorellopsis',\n",
       " 'Appendicularia',\n",
       " 'Asterionella',\n",
       " 'Aulacodiscus argus',\n",
       " 'Bacillaria paxillifer',\n",
       " 'Bacillariophyceae',\n",
       " 'Bacillariophyceae_type1_colony',\n",
       " 'Bacteriastrum',\n",
       " 'Bellerochea horologicalis',\n",
       " 'Biddulphia alternans',\n",
       " 'Biddulphianae',\n",
       " 'Brockmanniella brockmannii',\n",
       " 'Bubbles',\n",
       " 'Centric Diatom',\n",
       " 'Cerataulina pelagica',\n",
       " 'Ceratium horridum/C. longipes',\n",
       " 'Chaetoceros',\n",
       " 'Chaetoceros affinis',\n",
       " 'Chaetoceros curvisetus/C. pseudocurvisetus',\n",
       " 'Chaetoceros danicus',\n",
       " 'Chaetoceros socialis',\n",
       " 'Ciliophora:part',\n",
       " 'Copepoda adult',\n",
       " 'Coscinodiscus concinnus',\n",
       " 'Coscinodiscus granii',\n",
       " 'Crustacea',\n",
       " 'Crustaceae:part',\n",
       " 'Dactyliosolen/Cerataulina/Guinardia',\n",
       " 'Detritus',\n",
       " 'Dinoflagellata',\n",
       " 'Dinoflagellate cyst',\n",
       " 'Diploneis',\n",
       " 'Ditylum brightwellii',\n",
       " 'Egg/Cyst',\n",
       " 'Eucampia',\n",
       " 'Euntintinnus',\n",
       " 'Faecal pellet',\n",
       " 'Favella',\n",
       " 'Fibers',\n",
       " 'Guinardia delicatula',\n",
       " 'Guinardia flaccida',\n",
       " 'Guinardia striata/Dactyliosolen phuketensis',\n",
       " 'Helicotheca tamesis',\n",
       " 'Hobaniella longicruris',\n",
       " 'Laboea',\n",
       " 'Lauderia/Melosira/Detonula',\n",
       " 'Leptocylindraceae',\n",
       " 'Lithodesmium undulatum',\n",
       " 'Long (chained) diatom',\n",
       " 'Meuniera membranacea',\n",
       " 'Mollusca incertae',\n",
       " 'Nauplii',\n",
       " 'Neocalyptrella robusta',\n",
       " 'Noctiluca scintillans',\n",
       " 'Noctilucales',\n",
       " 'Odontella aurita/Ralfsiella minima',\n",
       " 'Odontella rhombus f. trigona',\n",
       " 'Paralia',\n",
       " 'Pennate Diatom',\n",
       " 'Peritrichia',\n",
       " 'Phytoplankton Colony',\n",
       " 'Pleurosira laevis',\n",
       " 'Pollen',\n",
       " 'Polychaeta',\n",
       " 'Porifera spicule',\n",
       " 'Proboscia alata',\n",
       " 'Proboscia indica',\n",
       " 'Protoperidinium',\n",
       " 'Protoperidinium depressum',\n",
       " 'Protoperidinium pentagonum',\n",
       " 'Pseudo-nitzschia',\n",
       " 'Rhizosolenia',\n",
       " 'Rhizosolenia setigera (f. pungens)/R. hebetata f. semispina',\n",
       " 'Rotifera',\n",
       " 'Skeletonema',\n",
       " 'Stellarima stellaris/Podosira/Hyalodiscus',\n",
       " 'Stephanopyxis',\n",
       " 'Strombidium',\n",
       " 'Suctoria',\n",
       " 'Synedra/Thalassionema',\n",
       " 'Thalassiosira/Porosira',\n",
       " 'Tintinnina',\n",
       " 'Tintinnopsis',\n",
       " 'Triceratium favus',\n",
       " 'Trieres mobiliensis/T. regia',\n",
       " 'Trieres sinensis',\n",
       " 'Tripos',\n",
       " 'Tripos furca',\n",
       " 'Tripos fusus',\n",
       " 'Tripos lineatus',\n",
       " 'Tripos:part',\n",
       " 'Unknown_3',\n",
       " 'Veliger larvae D-shaped',\n",
       " 'Zooplankton',\n",
       " 'Zygoceros'}"
      ]
     },
     "execution_count": 11,
     "metadata": {},
     "output_type": "execute_result"
    }
   ],
   "source": [
    "set(value_counts.index)"
   ]
  },
  {
   "cell_type": "code",
   "execution_count": 10,
   "metadata": {},
   "outputs": [
    {
     "data": {
      "text/plain": [
       "57"
      ]
     },
     "execution_count": 10,
     "metadata": {},
     "output_type": "execute_result"
    }
   ],
   "source": [
    "len(set(value_counts_months.index))"
   ]
  },
  {
   "cell_type": "code",
   "execution_count": 6,
   "metadata": {},
   "outputs": [
    {
     "data": {
      "text/plain": [
       "{'Actinoptychus',\n",
       " 'Actinoptychus splendens',\n",
       " 'Amphorellopsis',\n",
       " 'Appendicularia',\n",
       " 'Bacillariophyceae_type1_colony',\n",
       " 'Bellerochea horologicalis',\n",
       " 'Biddulphia alternans',\n",
       " 'Brockmanniella brockmannii',\n",
       " 'Cerataulina pelagica',\n",
       " 'Ceratium horridum/C. longipes',\n",
       " 'Chaetoceros affinis',\n",
       " 'Chaetoceros danicus',\n",
       " 'Chaetoceros socialis',\n",
       " 'Coscinodiscus concinnus',\n",
       " 'Crustacea',\n",
       " 'Dactyliosolen/Cerataulina/Guinardia',\n",
       " 'Diploneis',\n",
       " 'Euntintinnus',\n",
       " 'Faecal pellet',\n",
       " 'Favella',\n",
       " 'Guinardia delicatula',\n",
       " 'Hobaniella longicruris',\n",
       " 'Laboea',\n",
       " 'Leptocylindraceae',\n",
       " 'Lithodesmium undulatum',\n",
       " 'Mollusca incertae',\n",
       " 'Noctiluca scintillans',\n",
       " 'Noctilucales',\n",
       " 'Odontella aurita/Ralfsiella minima',\n",
       " 'Odontella rhombus f. trigona',\n",
       " 'Peritrichia',\n",
       " 'Phytoplankton Colony',\n",
       " 'Pleurosira laevis',\n",
       " 'Pollen',\n",
       " 'Polychaeta',\n",
       " 'Porifera spicule',\n",
       " 'Proboscia alata',\n",
       " 'Protoperidinium',\n",
       " 'Protoperidinium depressum',\n",
       " 'Protoperidinium pentagonum',\n",
       " 'Rotifera',\n",
       " 'Strombidium',\n",
       " 'Suctoria',\n",
       " 'Tintinnopsis',\n",
       " 'Tripos',\n",
       " 'Tripos furca',\n",
       " 'Tripos lineatus',\n",
       " 'Tripos:part',\n",
       " 'Veliger larvae D-shaped'}"
      ]
     },
     "execution_count": 6,
     "metadata": {},
     "output_type": "execute_result"
    }
   ],
   "source": [
    "set(value_counts.index) - set(classes_values)"
   ]
  },
  {
   "cell_type": "code",
   "execution_count": 24,
   "metadata": {},
   "outputs": [
    {
     "data": {
      "text/plain": [
       "87"
      ]
     },
     "execution_count": 24,
     "metadata": {},
     "output_type": "execute_result"
    }
   ],
   "source": [
    "len(set(classes_values))"
   ]
  },
  {
   "cell_type": "code",
   "execution_count": 22,
   "metadata": {},
   "outputs": [
    {
     "data": {
      "text/plain": [
       "88"
      ]
     },
     "execution_count": 22,
     "metadata": {},
     "output_type": "execute_result"
    }
   ],
   "source": [
    "len(combined_set)"
   ]
  },
  {
   "cell_type": "code",
   "execution_count": 19,
   "metadata": {},
   "outputs": [
    {
     "name": "stdout",
     "output_type": "stream",
     "text": [
      "['Actinoptychus', 'Actinoptychus senarius', 'Actinoptychus splendens', 'Appendicularia', 'Asterionella', 'Aulacodiscus argus', 'Bacillaria paxillifer', 'Bacillariophyceae', 'Bacillariophyceae_type1_colony', 'Bacteriastrum', 'Bellerochea', 'Bellerochea horologicalis', 'Biddulphia alternans', 'Biddulphianae', 'Brockmanniella brockmannii', 'Bubbles', 'Centric Diatom', 'Ceratium horridum/C. longipes', 'Chaetoceros', 'Chaetoceros affinis', 'Chaetoceros curvisetus/C. pseudocurvisetus', 'Chaetoceros danicus', 'Chaetoceros socialis', 'Ciliophora:part', 'Copepoda adult', 'Coscinodiscus concinnus', 'Coscinodiscus granii', 'Crustacea', 'Crustaceae:part', 'Dactyliosolen/Cerataulina/Guinardia', 'Detritus', 'Dinoflagellata', 'Dinoflagellate cyst', 'Diploneis', 'Ditylum brightwellii', 'Egg/Cyst', 'Eucampia', 'Faecal pellet', 'Favella', 'Fibers', 'Guinardia delicatula', 'Guinardia flaccida', 'Guinardia striata/Dactyliosolen phuketensis', 'Helicotheca tamesis', 'Hobaniella longicruris', 'Lauderia/Melosira/Detonula', 'Leptocylindraceae', 'Lithodesmium undulatum', 'Long (chained) diatom', 'Meuniera membranacea', 'Mollusca incertae', 'Nauplii', 'Neocalyptrella robusta', 'Noctiluca scintillans', 'Noctilucales', 'Odontella aurita/Ralfsiella minima', 'Paralia', 'Pennate Diatom', 'Peritrichia', 'Phytoplankton Colony', 'Pleurosira laevis', 'Pollen', 'Polychaeta', 'Porifera spicule', 'Proboscia alata', 'Proboscia indica', 'Protoperidinium', 'Pseudo-nitzschia', 'Rhizosolenia', 'Rhizosolenia setigera (f. pungens)/R. hebetata f. semispina', 'Rotifera', 'Skeletonema', 'Stellarima stellaris/Podosira/Hyalodiscus', 'Stephanopyxis', 'Suctoria', 'Synedra/Thalassionema', 'Thalassiosira/Porosira', 'Tintinnina', 'Triceratium favus', 'Trieres mobiliensis/T. regia', 'Trieres sinensis', 'Tripos', 'Tripos fusus', 'Tripos:part', 'Unknown_3', 'Veliger larvae D-shaped', 'Zooplankton', 'Zygoceros']\n"
     ]
    }
   ],
   "source": [
    "print(combined_set)"
   ]
  },
  {
   "cell_type": "code",
   "execution_count": 25,
   "metadata": {},
   "outputs": [
    {
     "data": {
      "text/plain": [
       "['Actinoptychus senarius',\n",
       " 'Appendicularia',\n",
       " 'Artefact',\n",
       " 'Asterionella',\n",
       " 'Aulacodiscus argus',\n",
       " 'Bacillaria paxillifer',\n",
       " 'Bacillariophyceae',\n",
       " 'Bacillariophyceae_type1_colony',\n",
       " 'Bacteriastrum',\n",
       " 'Bellerochea horologicalis',\n",
       " 'Biddulphia alternans',\n",
       " 'Biddulphianae',\n",
       " 'Bubbles',\n",
       " 'Centric Diatom',\n",
       " 'Chaetoceros',\n",
       " 'Chaetoceros curvisetus/C. pseudocurvisetus',\n",
       " 'Ciliophora:part',\n",
       " 'Copepoda adult',\n",
       " 'Crustaceae:part',\n",
       " 'Dactyliosolen/Cerataulina/Guinardia',\n",
       " 'Detritus',\n",
       " 'Dinoflagellata',\n",
       " 'Dinoflagellate cyst',\n",
       " 'Ditylum brightwellii',\n",
       " 'Egg/Cyst',\n",
       " 'Eucampia',\n",
       " 'Faecal pellet',\n",
       " 'Fibers',\n",
       " 'Guinardia flaccida',\n",
       " 'Guinardia striata/Dactyliosolen phuketensis',\n",
       " 'Helicotheca tamesis',\n",
       " 'Lauderia/Melosira/Detonula',\n",
       " 'Lithodesmium undulatum',\n",
       " 'Long (chained) diatom',\n",
       " 'Meuniera membranacea',\n",
       " 'Nauplii',\n",
       " 'Neocalyptrella robusta',\n",
       " 'Noctilucales',\n",
       " 'Paralia',\n",
       " 'Pennate Diatom',\n",
       " 'Phytoplankton Colony',\n",
       " 'Pleurosira laevis',\n",
       " 'Proboscia alata',\n",
       " 'Proboscia indica',\n",
       " 'Protoperidinium',\n",
       " 'Pseudo-nitzschia',\n",
       " 'Remnant',\n",
       " 'Rhizosolenia',\n",
       " 'Rhizosolenia setigera (f. pungens)/R. hebetata f. semispina',\n",
       " 'Skeletonema',\n",
       " 'Stellarima stellaris/Podosira/Hyalodiscus',\n",
       " 'Stephanopyxis',\n",
       " 'Synedra/Thalassionema',\n",
       " 'Thalassiosira/Porosira',\n",
       " 'Tintinnina',\n",
       " 'Triceratium favus',\n",
       " 'Trieres mobiliensis/T. regia',\n",
       " 'Trieres sinensis',\n",
       " 'Tripos fusus',\n",
       " 'Unknown',\n",
       " 'Unknown_3',\n",
       " 'Veliger larvae D-shaped',\n",
       " 'Zooplankton',\n",
       " 'Zygoceros']"
      ]
     },
     "execution_count": 25,
     "metadata": {},
     "output_type": "execute_result"
    }
   ],
   "source": [
    "sorted(data['object_annotation_category'].unique())\n"
   ]
  },
  {
   "cell_type": "code",
   "execution_count": 27,
   "metadata": {},
   "outputs": [
    {
     "data": {
      "text/plain": [
       "['Actinoptychus senarius',\n",
       " 'Appendicularia',\n",
       " 'Artefact',\n",
       " 'Artefacts',\n",
       " 'Asterionella',\n",
       " 'Asterionellopsis glacialis',\n",
       " 'Aulacodiscus argus',\n",
       " 'Bacillaria paxillifer',\n",
       " 'Bacillariophyceae',\n",
       " 'Bacillariophyceae_type1_colony',\n",
       " 'Bacteriastrum',\n",
       " 'Bellerochea horologicalis',\n",
       " 'Biddulphia alternans',\n",
       " 'Biddulphianae',\n",
       " 'Brockmanniella brockmannii',\n",
       " 'Bubbles',\n",
       " 'Centric Diatom',\n",
       " 'Chaetoceros',\n",
       " 'Chaetoceros curvisetus/C. pseudocurvisetus',\n",
       " 'Ciliophora:part',\n",
       " 'Copepoda adult',\n",
       " 'Coscinodiscus granii',\n",
       " 'Crustacea',\n",
       " 'Crustaceae:part',\n",
       " 'Dactyliosolen/Cerataulina/Guinardia',\n",
       " 'Detritus',\n",
       " 'Dinoflagellata',\n",
       " 'Dinoflagellate cyst',\n",
       " 'Dissodinium',\n",
       " 'Ditylum brightwellii',\n",
       " 'Egg/Cyst',\n",
       " 'Eggs',\n",
       " 'Equinoderm Larvae',\n",
       " 'Eucampia',\n",
       " 'Faecal pellet',\n",
       " 'Favella ehrenbergii',\n",
       " 'Fibers',\n",
       " 'Guinardia Dactyliosolen',\n",
       " 'Guinardia delicatula',\n",
       " 'Guinardia flaccida',\n",
       " 'Guinardia striata',\n",
       " 'Guinardia striata/Dactyliosolen phuketensis',\n",
       " 'Helicotheca tamesis',\n",
       " 'Lauderia annulata',\n",
       " 'Lauderia/Melosira/Detonula',\n",
       " 'Lithodesmium undulatum',\n",
       " 'Long (chained) diatom',\n",
       " 'Long chained diatom',\n",
       " 'Meuniera membranacea',\n",
       " 'Nauplii',\n",
       " 'Neocalyptrella robusta',\n",
       " 'Noctiluca',\n",
       " 'Noctilucales',\n",
       " 'Paralia',\n",
       " 'Paralia sulcata',\n",
       " 'Pennate Diatom',\n",
       " 'Phytoplankton Colony',\n",
       " 'Plagiogrammopsis vanheurckii',\n",
       " 'Pleurosigma Gyrosigma',\n",
       " 'Pleurosira laevis',\n",
       " 'Polychaeta Larvae',\n",
       " 'Proboscia',\n",
       " 'Proboscia alata',\n",
       " 'Proboscia indica',\n",
       " 'Protoperidinium',\n",
       " 'Pseudo-nitzschia',\n",
       " 'Remnant',\n",
       " 'Rhizosolenia',\n",
       " 'Rhizosolenia setigera (f. pungens)/R. hebetata f. semispina',\n",
       " 'Rotifera',\n",
       " 'Skeletonema',\n",
       " 'Stellarima stellaris/Podosira/Hyalodiscus',\n",
       " 'Stephanopyxis',\n",
       " 'Stephanopyxis turris',\n",
       " 'Suctoria',\n",
       " 'Synedra/Thalassionema',\n",
       " 'Thalassionema',\n",
       " 'Thalassiosira Porosira',\n",
       " 'Thalassiosira/Porosira',\n",
       " 'Tintinnina',\n",
       " 'Tintinnopsis',\n",
       " 'Triceratium favus',\n",
       " 'Trieres mobiliensis/T. regia',\n",
       " 'Trieres sinensis',\n",
       " 'Tripos',\n",
       " 'Tripos furca',\n",
       " 'Tripos fusus',\n",
       " 'Tripos lineatus',\n",
       " 'Unknown',\n",
       " 'Unknown_3',\n",
       " 'Veliger larvae D-shaped',\n",
       " 'Zooplankton',\n",
       " 'Zygoceros']"
      ]
     },
     "execution_count": 27,
     "metadata": {},
     "output_type": "execute_result"
    }
   ],
   "source": [
    "unique_values_tsv = sorted(data['object_annotation_category'].unique())\n",
    "\n",
    "sorted(set(unique_values_tsv) | set(classes_values))\n"
   ]
  },
  {
   "cell_type": "code",
   "execution_count": 18,
   "metadata": {},
   "outputs": [
    {
     "data": {
      "text/plain": [
       "['Actinoptychus_senarius',\n",
       " 'Appendicularia',\n",
       " 'Artefacts',\n",
       " 'Asterionellopsis_glacialis',\n",
       " 'Bacillaria_paxillifer',\n",
       " 'Bacteriastrum',\n",
       " 'Bellerochea_horologicalis',\n",
       " 'Biddulphia_alternans',\n",
       " 'Brockmanniella_brockmannii',\n",
       " 'Centric_Diatom',\n",
       " 'Chaetoceros',\n",
       " 'Coscinodiscus_granii',\n",
       " 'Crustacea',\n",
       " 'Detritus',\n",
       " 'Dissodinium',\n",
       " 'Ditylum_brightwellii',\n",
       " 'Eggs',\n",
       " 'Equinoderm_Larvae',\n",
       " 'Eucampia',\n",
       " 'Favella_ehrenbergii',\n",
       " 'Fibers',\n",
       " 'Guinardia_Dactyliosolen',\n",
       " 'Guinardia_delicatula',\n",
       " 'Guinardia_flaccida',\n",
       " 'Guinardia_striata',\n",
       " 'Helicotheca_tamesis',\n",
       " 'Lauderia_annulata',\n",
       " 'Lithodesmium_undulatum',\n",
       " 'Long_chained_diatom',\n",
       " 'Meuniera_membranacea',\n",
       " 'Neocalyptrella_robusta',\n",
       " 'Noctiluca',\n",
       " 'Paralia_sulcata',\n",
       " 'Plagiogrammopsis_vanheurckii',\n",
       " 'Pleurosigma_Gyrosigma',\n",
       " 'Polychaeta_Larvae',\n",
       " 'Proboscia',\n",
       " 'Protoperidinium',\n",
       " 'Pseudo-nitzschia',\n",
       " 'Rhizosolenia',\n",
       " 'Rotifera',\n",
       " 'Skeletonema',\n",
       " 'Stephanopyxis_turris',\n",
       " 'Suctoria',\n",
       " 'Thalassionema',\n",
       " 'Thalassiosira_Porosira',\n",
       " 'Tintinnopsis',\n",
       " 'Triceratium_favus',\n",
       " 'Trieres_sinensis',\n",
       " 'Tripos',\n",
       " 'Tripos_furca',\n",
       " 'Tripos_fusus',\n",
       " 'Tripos_lineatus',\n",
       " 'Zygoceros']"
      ]
     },
     "execution_count": 18,
     "metadata": {},
     "output_type": "execute_result"
    }
   ],
   "source": [
    "classes_values"
   ]
  }
 ],
 "metadata": {
  "kernelspec": {
   "display_name": "Python 3",
   "language": "python",
   "name": "python3"
  },
  "language_info": {
   "codemirror_mode": {
    "name": "ipython",
    "version": 3
   },
   "file_extension": ".py",
   "mimetype": "text/x-python",
   "name": "python",
   "nbconvert_exporter": "python",
   "pygments_lexer": "ipython3",
   "version": "3.9.13"
  }
 },
 "nbformat": 4,
 "nbformat_minor": 2
}
