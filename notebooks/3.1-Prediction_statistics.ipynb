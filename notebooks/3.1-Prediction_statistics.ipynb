{
 "cells": [
  {
   "attachments": {},
   "cell_type": "markdown",
   "metadata": {},
   "source": [
    "# Predictions statistics\n",
    "\n",
    "Let's analyse the predictions made on our test datasplit.\n",
    "\n",
    "**Note** To run this notebook you previously have to run and save the predictions on a test dataset **with ground-truth labels**. See the Datasplit section in [3.0 notebook](./3.0-Computing_predictions.ipynb#Predicting-a-datasplit-txt-file) for reference.\n"
   ]
  },
  {
   "attachments": {},
   "cell_type": "markdown",
   "metadata": {},
   "source": [
    "import packages"
   ]
  },
  {
   "cell_type": "code",
   "execution_count": 1,
   "metadata": {},
   "outputs": [],
   "source": [
    "import os\n",
    "import json\n",
    "from planktonclas import test_utils\n",
    "from sklearn.metrics import accuracy_score, precision_score, recall_score, f1_score,confusion_matrix,roc_auc_score\n",
    "from planktonclas.data_utils import load_image, load_class_names\n",
    "from planktonclas import paths, plot_utils\n",
    "from planktonclas.plot_utils import create_pred_path,plt_conf_matrix\n",
    "import numpy as np\n",
    "import pandas as pd\n",
    "import datetime\n",
    "import matplotlib.pyplot as plt\n",
    "import seaborn\n",
    "\n",
    "import warnings\n",
    "warnings.filterwarnings(\"ignore\") # To ignore UndefinedMetricWarning: [Recall/Precision/F-Score] is ill-defined and being set to 0.0 in labels with no [true/predicted] samples."
   ]
  },
  {
   "attachments": {},
   "cell_type": "markdown",
   "metadata": {},
   "source": [
    "Import data"
   ]
  },
  {
   "cell_type": "code",
   "execution_count": 7,
   "metadata": {},
   "outputs": [
    {
     "name": "stdout",
     "output_type": "stream",
     "text": [
      "Loading class names...\n"
     ]
    }
   ],
   "source": [
    "\n",
    "# User parameters to set\n",
    "TIMESTAMP = '2023-06-05_143422'           # timestamp of the model\n",
    "SPLIT_NAME = 'test_RJB'                   # dataset split to predict\n",
    "MODEL_NAME = 'final_model.h5'         # model to use to make the mediction\n",
    "TOP_K = 5                             # number of top classes predictions to save\n",
    "\n",
    "# Set the timestamp\n",
    "paths.timestamp = TIMESTAMP\n",
    "\n",
    "# Load clas names\n",
    "class_names = load_class_names(splits_dir=paths.get_ts_splits_dir())\n",
    "\n",
    "# Load back the predictions\n",
    "pred_path = os.path.join(paths.get_predictions_dir(), '{}+{}+top{}.json'.format(MODEL_NAME, SPLIT_NAME, TOP_K))\n",
    "with open(pred_path) as f:\n",
    "    pred_dict = json.load(f)\n",
    "data = pd.DataFrame(pred_dict)\n",
    "data[['filenames', 'true_lab','pred_lab']].head(5)\n",
    "data['in_top5'] = data.apply(lambda row: row['true_lab'] in row['pred_lab'], axis=1)\n",
    "data['top1_correct'] = data.apply(lambda row: row['true_lab'] == row['pred_lab'][0], axis=1)\n",
    "data['true_label']=class_names[data['true_lab']]\n",
    "data['top1']=data.apply(lambda row: class_names[row['pred_lab'][0]], axis=1)\n",
    "data['probability']=data.apply(lambda row: row['pred_prob'][0], axis=1)\n"
   ]
  },
  {
   "cell_type": "code",
   "execution_count": 18,
   "metadata": {},
   "outputs": [
    {
     "data": {
      "text/html": [
       "<div>\n",
       "<style scoped>\n",
       "    .dataframe tbody tr th:only-of-type {\n",
       "        vertical-align: middle;\n",
       "    }\n",
       "\n",
       "    .dataframe tbody tr th {\n",
       "        vertical-align: top;\n",
       "    }\n",
       "\n",
       "    .dataframe thead th {\n",
       "        text-align: right;\n",
       "    }\n",
       "</style>\n",
       "<table border=\"1\" class=\"dataframe\">\n",
       "  <thead>\n",
       "    <tr style=\"text-align: right;\">\n",
       "      <th></th>\n",
       "      <th>filenames</th>\n",
       "      <th>pred_lab</th>\n",
       "      <th>pred_prob</th>\n",
       "      <th>true_lab</th>\n",
       "      <th>in_top5</th>\n",
       "      <th>top1_correct</th>\n",
       "      <th>true_label</th>\n",
       "      <th>top1</th>\n",
       "      <th>probability</th>\n",
       "    </tr>\n",
       "  </thead>\n",
       "  <tbody>\n",
       "    <tr>\n",
       "      <th>0</th>\n",
       "      <td>data/images/Favella_ehrenbergii/389790-Favella...</td>\n",
       "      <td>[19, 16, 30, 40, 11]</td>\n",
       "      <td>[0.3684563636779785, 0.20807866752147675, 0.10...</td>\n",
       "      <td>19</td>\n",
       "      <td>True</td>\n",
       "      <td>True</td>\n",
       "      <td>Favella_ehrenbergii</td>\n",
       "      <td>Favella_ehrenbergii</td>\n",
       "      <td>0.368456</td>\n",
       "    </tr>\n",
       "    <tr>\n",
       "      <th>1</th>\n",
       "      <td>data/images/Trieres_sinensis/463987-Trieres_si...</td>\n",
       "      <td>[48, 40, 23, 11, 46]</td>\n",
       "      <td>[0.8963170051574707, 0.029406260699033737, 0.0...</td>\n",
       "      <td>48</td>\n",
       "      <td>True</td>\n",
       "      <td>True</td>\n",
       "      <td>Trieres_sinensis</td>\n",
       "      <td>Trieres_sinensis</td>\n",
       "      <td>0.896317</td>\n",
       "    </tr>\n",
       "    <tr>\n",
       "      <th>2</th>\n",
       "      <td>data/images/Bellerochea_horologicalis/23255-Be...</td>\n",
       "      <td>[22, 6, 34, 36, 24]</td>\n",
       "      <td>[0.28529173135757446, 0.2257017195224762, 0.14...</td>\n",
       "      <td>6</td>\n",
       "      <td>True</td>\n",
       "      <td>False</td>\n",
       "      <td>Bellerochea_horologicalis</td>\n",
       "      <td>Guinardia_delicatula</td>\n",
       "      <td>0.285292</td>\n",
       "    </tr>\n",
       "    <tr>\n",
       "      <th>3</th>\n",
       "      <td>data/images/Guinardia_striata/441350-Guinardia...</td>\n",
       "      <td>[24, 18, 29, 14, 34]</td>\n",
       "      <td>[0.5547760128974915, 0.16908274590969086, 0.06...</td>\n",
       "      <td>24</td>\n",
       "      <td>True</td>\n",
       "      <td>True</td>\n",
       "      <td>Guinardia_striata</td>\n",
       "      <td>Guinardia_striata</td>\n",
       "      <td>0.554776</td>\n",
       "    </tr>\n",
       "    <tr>\n",
       "      <th>4</th>\n",
       "      <td>data/images/Appendicularia/102-Appendicularia-...</td>\n",
       "      <td>[1, 17, 24, 12, 31]</td>\n",
       "      <td>[0.8952153921127319, 0.06937181949615479, 0.01...</td>\n",
       "      <td>1</td>\n",
       "      <td>True</td>\n",
       "      <td>True</td>\n",
       "      <td>Appendicularia</td>\n",
       "      <td>Appendicularia</td>\n",
       "      <td>0.895215</td>\n",
       "    </tr>\n",
       "    <tr>\n",
       "      <th>...</th>\n",
       "      <td>...</td>\n",
       "      <td>...</td>\n",
       "      <td>...</td>\n",
       "      <td>...</td>\n",
       "      <td>...</td>\n",
       "      <td>...</td>\n",
       "      <td>...</td>\n",
       "      <td>...</td>\n",
       "      <td>...</td>\n",
       "    </tr>\n",
       "    <tr>\n",
       "      <th>427</th>\n",
       "      <td>data/images/Rotifera/65763-Rotifera-none.jpg</td>\n",
       "      <td>[40, 9, 53, 11, 12]</td>\n",
       "      <td>[0.9332304000854492, 0.039195094257593155, 0.0...</td>\n",
       "      <td>40</td>\n",
       "      <td>True</td>\n",
       "      <td>True</td>\n",
       "      <td>Rotifera</td>\n",
       "      <td>Rotifera</td>\n",
       "      <td>0.933230</td>\n",
       "    </tr>\n",
       "    <tr>\n",
       "      <th>428</th>\n",
       "      <td>data/images/Guinardia_striata/441343-Guinardia...</td>\n",
       "      <td>[24, 14, 18, 6, 9]</td>\n",
       "      <td>[0.870669960975647, 0.06940336525440216, 0.030...</td>\n",
       "      <td>24</td>\n",
       "      <td>True</td>\n",
       "      <td>True</td>\n",
       "      <td>Guinardia_striata</td>\n",
       "      <td>Guinardia_striata</td>\n",
       "      <td>0.870670</td>\n",
       "    </tr>\n",
       "    <tr>\n",
       "      <th>429</th>\n",
       "      <td>data/images/Dissodinium/342347-Dissodinium-non...</td>\n",
       "      <td>[14, 24, 42, 15, 53]</td>\n",
       "      <td>[0.9577552676200867, 0.022767145186662674, 0.0...</td>\n",
       "      <td>14</td>\n",
       "      <td>True</td>\n",
       "      <td>True</td>\n",
       "      <td>Dissodinium</td>\n",
       "      <td>Dissodinium</td>\n",
       "      <td>0.957755</td>\n",
       "    </tr>\n",
       "    <tr>\n",
       "      <th>430</th>\n",
       "      <td>data/images/Bacteriastrum/20721-Bacteriastrum-...</td>\n",
       "      <td>[5, 43, 29, 3, 25]</td>\n",
       "      <td>[0.8747514486312866, 0.04127036780118942, 0.01...</td>\n",
       "      <td>5</td>\n",
       "      <td>True</td>\n",
       "      <td>True</td>\n",
       "      <td>Bacteriastrum</td>\n",
       "      <td>Bacteriastrum</td>\n",
       "      <td>0.874751</td>\n",
       "    </tr>\n",
       "    <tr>\n",
       "      <th>431</th>\n",
       "      <td>data/images/Guinardia_Dactyliosolen/31486-Guin...</td>\n",
       "      <td>[21, 5, 18, 36, 24]</td>\n",
       "      <td>[0.93641197681427, 0.02445303276181221, 0.0117...</td>\n",
       "      <td>21</td>\n",
       "      <td>True</td>\n",
       "      <td>True</td>\n",
       "      <td>Guinardia_Dactyliosolen</td>\n",
       "      <td>Guinardia_Dactyliosolen</td>\n",
       "      <td>0.936412</td>\n",
       "    </tr>\n",
       "  </tbody>\n",
       "</table>\n",
       "<p>432 rows × 9 columns</p>\n",
       "</div>"
      ],
      "text/plain": [
       "                                             filenames              pred_lab  \\\n",
       "0    data/images/Favella_ehrenbergii/389790-Favella...  [19, 16, 30, 40, 11]   \n",
       "1    data/images/Trieres_sinensis/463987-Trieres_si...  [48, 40, 23, 11, 46]   \n",
       "2    data/images/Bellerochea_horologicalis/23255-Be...   [22, 6, 34, 36, 24]   \n",
       "3    data/images/Guinardia_striata/441350-Guinardia...  [24, 18, 29, 14, 34]   \n",
       "4    data/images/Appendicularia/102-Appendicularia-...   [1, 17, 24, 12, 31]   \n",
       "..                                                 ...                   ...   \n",
       "427       data/images/Rotifera/65763-Rotifera-none.jpg   [40, 9, 53, 11, 12]   \n",
       "428  data/images/Guinardia_striata/441343-Guinardia...    [24, 14, 18, 6, 9]   \n",
       "429  data/images/Dissodinium/342347-Dissodinium-non...  [14, 24, 42, 15, 53]   \n",
       "430  data/images/Bacteriastrum/20721-Bacteriastrum-...    [5, 43, 29, 3, 25]   \n",
       "431  data/images/Guinardia_Dactyliosolen/31486-Guin...   [21, 5, 18, 36, 24]   \n",
       "\n",
       "                                             pred_prob  true_lab  in_top5  \\\n",
       "0    [0.3684563636779785, 0.20807866752147675, 0.10...        19     True   \n",
       "1    [0.8963170051574707, 0.029406260699033737, 0.0...        48     True   \n",
       "2    [0.28529173135757446, 0.2257017195224762, 0.14...         6     True   \n",
       "3    [0.5547760128974915, 0.16908274590969086, 0.06...        24     True   \n",
       "4    [0.8952153921127319, 0.06937181949615479, 0.01...         1     True   \n",
       "..                                                 ...       ...      ...   \n",
       "427  [0.9332304000854492, 0.039195094257593155, 0.0...        40     True   \n",
       "428  [0.870669960975647, 0.06940336525440216, 0.030...        24     True   \n",
       "429  [0.9577552676200867, 0.022767145186662674, 0.0...        14     True   \n",
       "430  [0.8747514486312866, 0.04127036780118942, 0.01...         5     True   \n",
       "431  [0.93641197681427, 0.02445303276181221, 0.0117...        21     True   \n",
       "\n",
       "     top1_correct                 true_label                     top1  \\\n",
       "0            True        Favella_ehrenbergii      Favella_ehrenbergii   \n",
       "1            True           Trieres_sinensis         Trieres_sinensis   \n",
       "2           False  Bellerochea_horologicalis     Guinardia_delicatula   \n",
       "3            True          Guinardia_striata        Guinardia_striata   \n",
       "4            True             Appendicularia           Appendicularia   \n",
       "..            ...                        ...                      ...   \n",
       "427          True                   Rotifera                 Rotifera   \n",
       "428          True          Guinardia_striata        Guinardia_striata   \n",
       "429          True                Dissodinium              Dissodinium   \n",
       "430          True              Bacteriastrum            Bacteriastrum   \n",
       "431          True    Guinardia_Dactyliosolen  Guinardia_Dactyliosolen   \n",
       "\n",
       "     probability  \n",
       "0       0.368456  \n",
       "1       0.896317  \n",
       "2       0.285292  \n",
       "3       0.554776  \n",
       "4       0.895215  \n",
       "..           ...  \n",
       "427     0.933230  \n",
       "428     0.870670  \n",
       "429     0.957755  \n",
       "430     0.874751  \n",
       "431     0.936412  \n",
       "\n",
       "[432 rows x 9 columns]"
      ]
     },
     "execution_count": 18,
     "metadata": {},
     "output_type": "execute_result"
    }
   ],
   "source": [
    "data"
   ]
  },
  {
   "cell_type": "code",
   "execution_count": 8,
   "metadata": {},
   "outputs": [],
   "source": [
    "data = pd.read_csv(r\"/srv/phyto-plankton-classification/data/performance_data.csv\")"
   ]
  },
  {
   "cell_type": "code",
   "execution_count": 4,
   "metadata": {},
   "outputs": [
    {
     "data": {
      "text/html": [
       "<div>\n",
       "<style scoped>\n",
       "    .dataframe tbody tr th:only-of-type {\n",
       "        vertical-align: middle;\n",
       "    }\n",
       "\n",
       "    .dataframe tbody tr th {\n",
       "        vertical-align: top;\n",
       "    }\n",
       "\n",
       "    .dataframe thead th {\n",
       "        text-align: right;\n",
       "    }\n",
       "</style>\n",
       "<table border=\"1\" class=\"dataframe\">\n",
       "  <thead>\n",
       "    <tr style=\"text-align: right;\">\n",
       "      <th></th>\n",
       "      <th>original_id</th>\n",
       "      <th>true_label</th>\n",
       "      <th>top1</th>\n",
       "      <th>probability</th>\n",
       "      <th>in_top5</th>\n",
       "      <th>top1_correct</th>\n",
       "    </tr>\n",
       "  </thead>\n",
       "  <tbody>\n",
       "    <tr>\n",
       "      <th>0</th>\n",
       "      <td>68800827-7D65-4ED4-BC2C-543097DDE19D</td>\n",
       "      <td>Detritus</td>\n",
       "      <td>Detritus</td>\n",
       "      <td>0.995500</td>\n",
       "      <td>True</td>\n",
       "      <td>True</td>\n",
       "    </tr>\n",
       "    <tr>\n",
       "      <th>1</th>\n",
       "      <td>93EEC6E4-72E1-4418-8D20-3490896AE742</td>\n",
       "      <td>Detritus</td>\n",
       "      <td>Detritus</td>\n",
       "      <td>0.997106</td>\n",
       "      <td>True</td>\n",
       "      <td>True</td>\n",
       "    </tr>\n",
       "    <tr>\n",
       "      <th>2</th>\n",
       "      <td>D3814E77-BD16-4D25-A61B-C6331255BCFB</td>\n",
       "      <td>Detritus</td>\n",
       "      <td>Detritus</td>\n",
       "      <td>0.994374</td>\n",
       "      <td>True</td>\n",
       "      <td>True</td>\n",
       "    </tr>\n",
       "    <tr>\n",
       "      <th>3</th>\n",
       "      <td>9A983A1B-4978-4969-AE04-5A14AA7AB7D5</td>\n",
       "      <td>Detritus</td>\n",
       "      <td>Detritus</td>\n",
       "      <td>0.999842</td>\n",
       "      <td>True</td>\n",
       "      <td>True</td>\n",
       "    </tr>\n",
       "    <tr>\n",
       "      <th>4</th>\n",
       "      <td>4FF5291E-57E4-4C63-BFCF-7750776106C3</td>\n",
       "      <td>Detritus</td>\n",
       "      <td>Detritus</td>\n",
       "      <td>0.990286</td>\n",
       "      <td>True</td>\n",
       "      <td>True</td>\n",
       "    </tr>\n",
       "    <tr>\n",
       "      <th>...</th>\n",
       "      <td>...</td>\n",
       "      <td>...</td>\n",
       "      <td>...</td>\n",
       "      <td>...</td>\n",
       "      <td>...</td>\n",
       "      <td>...</td>\n",
       "    </tr>\n",
       "    <tr>\n",
       "      <th>1064894</th>\n",
       "      <td>A7767B40-6FFF-421B-92EB-53863A8D71C2</td>\n",
       "      <td>Zygoceros</td>\n",
       "      <td>Zygoceros</td>\n",
       "      <td>0.778006</td>\n",
       "      <td>True</td>\n",
       "      <td>True</td>\n",
       "    </tr>\n",
       "    <tr>\n",
       "      <th>1064895</th>\n",
       "      <td>241B0A7E-8275-4C27-AB6C-70C60E0BE2E4</td>\n",
       "      <td>Zygoceros</td>\n",
       "      <td>Zygoceros</td>\n",
       "      <td>0.925569</td>\n",
       "      <td>True</td>\n",
       "      <td>True</td>\n",
       "    </tr>\n",
       "    <tr>\n",
       "      <th>1064896</th>\n",
       "      <td>73CA9308-F0E8-4E79-9695-86ADE5059313</td>\n",
       "      <td>Zygoceros</td>\n",
       "      <td>Zygoceros</td>\n",
       "      <td>0.847036</td>\n",
       "      <td>True</td>\n",
       "      <td>True</td>\n",
       "    </tr>\n",
       "    <tr>\n",
       "      <th>1064897</th>\n",
       "      <td>13CD7BEA-B8E2-4C98-BF4E-320457CFA081</td>\n",
       "      <td>Zygoceros</td>\n",
       "      <td>Zygoceros</td>\n",
       "      <td>0.897665</td>\n",
       "      <td>True</td>\n",
       "      <td>True</td>\n",
       "    </tr>\n",
       "    <tr>\n",
       "      <th>1064898</th>\n",
       "      <td>BF3C6F06-F3F3-4F3C-9695-6CA43B0B3C28</td>\n",
       "      <td>Zygoceros</td>\n",
       "      <td>Zygoceros</td>\n",
       "      <td>0.926282</td>\n",
       "      <td>True</td>\n",
       "      <td>True</td>\n",
       "    </tr>\n",
       "  </tbody>\n",
       "</table>\n",
       "<p>1064899 rows × 6 columns</p>\n",
       "</div>"
      ],
      "text/plain": [
       "                                  original_id true_label       top1  \\\n",
       "0        68800827-7D65-4ED4-BC2C-543097DDE19D   Detritus   Detritus   \n",
       "1        93EEC6E4-72E1-4418-8D20-3490896AE742   Detritus   Detritus   \n",
       "2        D3814E77-BD16-4D25-A61B-C6331255BCFB   Detritus   Detritus   \n",
       "3        9A983A1B-4978-4969-AE04-5A14AA7AB7D5   Detritus   Detritus   \n",
       "4        4FF5291E-57E4-4C63-BFCF-7750776106C3   Detritus   Detritus   \n",
       "...                                       ...        ...        ...   \n",
       "1064894  A7767B40-6FFF-421B-92EB-53863A8D71C2  Zygoceros  Zygoceros   \n",
       "1064895  241B0A7E-8275-4C27-AB6C-70C60E0BE2E4  Zygoceros  Zygoceros   \n",
       "1064896  73CA9308-F0E8-4E79-9695-86ADE5059313  Zygoceros  Zygoceros   \n",
       "1064897  13CD7BEA-B8E2-4C98-BF4E-320457CFA081  Zygoceros  Zygoceros   \n",
       "1064898  BF3C6F06-F3F3-4F3C-9695-6CA43B0B3C28  Zygoceros  Zygoceros   \n",
       "\n",
       "         probability  in_top5  top1_correct  \n",
       "0           0.995500     True          True  \n",
       "1           0.997106     True          True  \n",
       "2           0.994374     True          True  \n",
       "3           0.999842     True          True  \n",
       "4           0.990286     True          True  \n",
       "...              ...      ...           ...  \n",
       "1064894     0.778006     True          True  \n",
       "1064895     0.925569     True          True  \n",
       "1064896     0.847036     True          True  \n",
       "1064897     0.897665     True          True  \n",
       "1064898     0.926282     True          True  \n",
       "\n",
       "[1064899 rows x 6 columns]"
      ]
     },
     "execution_count": 4,
     "metadata": {},
     "output_type": "execute_result"
    }
   ],
   "source": [
    "data"
   ]
  },
  {
   "cell_type": "code",
   "execution_count": 27,
   "metadata": {},
   "outputs": [
    {
     "data": {
      "text/plain": [
       "0.8150012348588928"
      ]
     },
     "execution_count": 27,
     "metadata": {},
     "output_type": "execute_result"
    }
   ],
   "source": [
    "np.sum(data[\"in_top5\"])/len(data)"
   ]
  },
  {
   "cell_type": "code",
   "execution_count": 3,
   "metadata": {},
   "outputs": [
    {
     "data": {
      "text/plain": [
       "0.6231173097166961"
      ]
     },
     "execution_count": 3,
     "metadata": {},
     "output_type": "execute_result"
    }
   ],
   "source": [
    "np.sum(data[\"top1_correct\"])/len(data)"
   ]
  },
  {
   "cell_type": "code",
   "execution_count": 13,
   "metadata": {},
   "outputs": [
    {
     "data": {
      "text/plain": [
       "array(['Detritus', 'Detritus', 'Detritus', ..., 'Zygoceros', 'Zygoceros',\n",
       "       'Zygoceros'], dtype=object)"
      ]
     },
     "execution_count": 13,
     "metadata": {},
     "output_type": "execute_result"
    }
   ],
   "source": [
    "pred_dict['true_label'].values"
   ]
  },
  {
   "cell_type": "code",
   "execution_count": 20,
   "metadata": {},
   "outputs": [],
   "source": [
    "true_lab, pred_lab = np.array(pred_dict['true_lab']), np.array(pred_dict['pred_lab'])"
   ]
  },
  {
   "cell_type": "code",
   "execution_count": 23,
   "metadata": {},
   "outputs": [
    {
     "data": {
      "text/plain": [
       "array([[19, 16, 30, 40, 11],\n",
       "       [48, 40, 23, 11, 46],\n",
       "       [22,  6, 34, 36, 24],\n",
       "       ...,\n",
       "       [14, 24, 42, 15, 53],\n",
       "       [ 5, 43, 29,  3, 25],\n",
       "       [21,  5, 18, 36, 24]])"
      ]
     },
     "execution_count": 23,
     "metadata": {},
     "output_type": "execute_result"
    }
   ],
   "source": [
    "pred_lab "
   ]
  },
  {
   "cell_type": "code",
   "execution_count": 33,
   "metadata": {},
   "outputs": [
    {
     "name": "stdout",
     "output_type": "stream",
     "text": [
      "Accuracy Score: 0.6231173097166961\n"
     ]
    }
   ],
   "source": [
    "from sklearn.metrics import accuracy_score\n",
    "\n",
    "# Assuming true_lab and pred_lab are arrays of string labels\n",
    "# Replace true_lab and pred_lab with your actual arrays\n",
    "accuracy = accuracy_score(true_lab.astype(str), pred_lab.astype(str))\n",
    "print(\"Accuracy Score:\", accuracy)\n"
   ]
  },
  {
   "cell_type": "code",
   "execution_count": 26,
   "metadata": {},
   "outputs": [
    {
     "data": {
      "text/plain": [
       "(array(['Detritus', 'Detritus', 'Detritus', ..., 'Zygoceros', 'Zygoceros',\n",
       "        'Zygoceros'], dtype=object),\n",
       " array(['Detritus', 'Detritus', 'Detritus', ..., 'Zygoceros', 'Zygoceros',\n",
       "        'Zygoceros'], dtype=object))"
      ]
     },
     "execution_count": 26,
     "metadata": {},
     "output_type": "execute_result"
    }
   ],
   "source": [
    "pred_dict=data\n",
    "true_lab, pred_lab = pred_dict['true_label'].values, pred_dict['top1'].values\n",
    "true_lab, pred_lab"
   ]
  },
  {
   "cell_type": "code",
   "execution_count": 30,
   "metadata": {},
   "outputs": [
    {
     "data": {
      "text/plain": [
       "array([ 62,  62,  62, ..., 205, 205, 205])"
      ]
     },
     "execution_count": 30,
     "metadata": {},
     "output_type": "execute_result"
    }
   ],
   "source": [
    "true_lab_encoded"
   ]
  },
  {
   "cell_type": "code",
   "execution_count": 29,
   "metadata": {},
   "outputs": [
    {
     "name": "stdout",
     "output_type": "stream",
     "text": [
      "Recall Score: 0.0003493289034922561\n"
     ]
    }
   ],
   "source": [
    "from sklearn.metrics import recall_score\n",
    "from sklearn.preprocessing import LabelEncoder\n",
    "\n",
    "# Assuming true_lab and pred_lab are arrays of string labels\n",
    "label_encoder_true = LabelEncoder()\n",
    "label_encoder_pred = LabelEncoder()\n",
    "\n",
    "# Fit and transform true_lab and pred_lab separately\n",
    "true_lab_encoded = label_encoder_true.fit_transform(true_lab)\n",
    "pred_lab_encoded = label_encoder_pred.fit_transform(pred_lab)\n",
    "\n",
    "# Calculate recall score using the numerical labels\n",
    "recall = precision_score(true_lab_encoded, pred_lab_encoded, average='micro')\n",
    "print(\"Recall Score:\", recall)\n"
   ]
  },
  {
   "cell_type": "code",
   "execution_count": 12,
   "metadata": {},
   "outputs": [
    {
     "name": "stdout",
     "output_type": "stream",
     "text": [
      "\n",
      "\n"
     ]
    },
    {
     "ename": "TypeError",
     "evalue": "'<' not supported between instances of 'float' and 'str'",
     "output_type": "error",
     "traceback": [
      "\u001b[0;31m---------------------------------------------------------------------------\u001b[0m",
      "\u001b[0;31mTypeError\u001b[0m                                 Traceback (most recent call last)",
      "\u001b[0;32m<ipython-input-12-42bdfe6b40e8>\u001b[0m in \u001b[0;36m<module>\u001b[0;34m\u001b[0m\n\u001b[1;32m     10\u001b[0m \u001b[0mlabels\u001b[0m \u001b[0;34m=\u001b[0m \u001b[0mrange\u001b[0m\u001b[0;34m(\u001b[0m\u001b[0mlen\u001b[0m\u001b[0;34m(\u001b[0m\u001b[0mclass_names\u001b[0m\u001b[0;34m)\u001b[0m\u001b[0;34m)\u001b[0m\u001b[0;34m\u001b[0m\u001b[0;34m\u001b[0m\u001b[0m\n\u001b[1;32m     11\u001b[0m \u001b[0mprint\u001b[0m\u001b[0;34m(\u001b[0m\u001b[0;34m'\\n'\u001b[0m\u001b[0;34m)\u001b[0m\u001b[0;34m\u001b[0m\u001b[0;34m\u001b[0m\u001b[0m\n\u001b[0;32m---> 12\u001b[0;31m \u001b[0mprint\u001b[0m\u001b[0;34m(\u001b[0m\u001b[0;34m'Micro recall: {:.1f} %'\u001b[0m\u001b[0;34m.\u001b[0m\u001b[0mformat\u001b[0m\u001b[0;34m(\u001b[0m\u001b[0;36m100\u001b[0m \u001b[0;34m*\u001b[0m \u001b[0mrecall_score\u001b[0m\u001b[0;34m(\u001b[0m\u001b[0mtrue_lab\u001b[0m\u001b[0;34m,\u001b[0m \u001b[0mpred_lab\u001b[0m\u001b[0;34m,\u001b[0m \u001b[0mlabels\u001b[0m\u001b[0;34m=\u001b[0m\u001b[0mlabels\u001b[0m\u001b[0;34m,\u001b[0m \u001b[0maverage\u001b[0m\u001b[0;34m=\u001b[0m\u001b[0;34m'micro'\u001b[0m\u001b[0;34m)\u001b[0m\u001b[0;34m)\u001b[0m\u001b[0;34m)\u001b[0m\u001b[0;34m\u001b[0m\u001b[0;34m\u001b[0m\u001b[0m\n\u001b[0m\u001b[1;32m     13\u001b[0m \u001b[0mprint\u001b[0m\u001b[0;34m(\u001b[0m\u001b[0;34m'Macro recall: {:.1f} %'\u001b[0m\u001b[0;34m.\u001b[0m\u001b[0mformat\u001b[0m\u001b[0;34m(\u001b[0m\u001b[0;36m100\u001b[0m \u001b[0;34m*\u001b[0m \u001b[0mrecall_score\u001b[0m\u001b[0;34m(\u001b[0m\u001b[0mtrue_lab\u001b[0m\u001b[0;34m,\u001b[0m \u001b[0mpred_lab\u001b[0m\u001b[0;34m[\u001b[0m\u001b[0;34m:\u001b[0m\u001b[0;34m,\u001b[0m \u001b[0;36m0\u001b[0m\u001b[0;34m]\u001b[0m\u001b[0;34m,\u001b[0m \u001b[0mlabels\u001b[0m\u001b[0;34m=\u001b[0m\u001b[0mlabels\u001b[0m\u001b[0;34m,\u001b[0m \u001b[0maverage\u001b[0m\u001b[0;34m=\u001b[0m\u001b[0;34m'macro'\u001b[0m\u001b[0;34m)\u001b[0m\u001b[0;34m)\u001b[0m\u001b[0;34m)\u001b[0m\u001b[0;34m\u001b[0m\u001b[0;34m\u001b[0m\u001b[0m\n\u001b[1;32m     14\u001b[0m \u001b[0mprint\u001b[0m\u001b[0;34m(\u001b[0m\u001b[0;34m'Macro recall (no labels): {:.1f} %'\u001b[0m\u001b[0;34m.\u001b[0m\u001b[0mformat\u001b[0m\u001b[0;34m(\u001b[0m\u001b[0;36m100\u001b[0m \u001b[0;34m*\u001b[0m \u001b[0mrecall_score\u001b[0m\u001b[0;34m(\u001b[0m\u001b[0mtrue_lab\u001b[0m\u001b[0;34m,\u001b[0m \u001b[0mpred_lab\u001b[0m\u001b[0;34m[\u001b[0m\u001b[0;34m:\u001b[0m\u001b[0;34m,\u001b[0m \u001b[0;36m0\u001b[0m\u001b[0;34m]\u001b[0m\u001b[0;34m,\u001b[0m \u001b[0maverage\u001b[0m\u001b[0;34m=\u001b[0m\u001b[0;34m'macro'\u001b[0m\u001b[0;34m)\u001b[0m\u001b[0;34m)\u001b[0m\u001b[0;34m)\u001b[0m\u001b[0;34m\u001b[0m\u001b[0;34m\u001b[0m\u001b[0m\n",
      "\u001b[0;32m/usr/local/lib/python3.6/dist-packages/sklearn/utils/validation.py\u001b[0m in \u001b[0;36minner_f\u001b[0;34m(*args, **kwargs)\u001b[0m\n\u001b[1;32m     61\u001b[0m             \u001b[0mextra_args\u001b[0m \u001b[0;34m=\u001b[0m \u001b[0mlen\u001b[0m\u001b[0;34m(\u001b[0m\u001b[0margs\u001b[0m\u001b[0;34m)\u001b[0m \u001b[0;34m-\u001b[0m \u001b[0mlen\u001b[0m\u001b[0;34m(\u001b[0m\u001b[0mall_args\u001b[0m\u001b[0;34m)\u001b[0m\u001b[0;34m\u001b[0m\u001b[0;34m\u001b[0m\u001b[0m\n\u001b[1;32m     62\u001b[0m             \u001b[0;32mif\u001b[0m \u001b[0mextra_args\u001b[0m \u001b[0;34m<=\u001b[0m \u001b[0;36m0\u001b[0m\u001b[0;34m:\u001b[0m\u001b[0;34m\u001b[0m\u001b[0;34m\u001b[0m\u001b[0m\n\u001b[0;32m---> 63\u001b[0;31m                 \u001b[0;32mreturn\u001b[0m \u001b[0mf\u001b[0m\u001b[0;34m(\u001b[0m\u001b[0;34m*\u001b[0m\u001b[0margs\u001b[0m\u001b[0;34m,\u001b[0m \u001b[0;34m**\u001b[0m\u001b[0mkwargs\u001b[0m\u001b[0;34m)\u001b[0m\u001b[0;34m\u001b[0m\u001b[0;34m\u001b[0m\u001b[0m\n\u001b[0m\u001b[1;32m     64\u001b[0m \u001b[0;34m\u001b[0m\u001b[0m\n\u001b[1;32m     65\u001b[0m             \u001b[0;31m# extra_args > 0\u001b[0m\u001b[0;34m\u001b[0m\u001b[0;34m\u001b[0m\u001b[0;34m\u001b[0m\u001b[0m\n",
      "\u001b[0;32m/usr/local/lib/python3.6/dist-packages/sklearn/metrics/_classification.py\u001b[0m in \u001b[0;36mrecall_score\u001b[0;34m(y_true, y_pred, labels, pos_label, average, sample_weight, zero_division)\u001b[0m\n\u001b[1;32m   1778\u001b[0m                                                  \u001b[0mwarn_for\u001b[0m\u001b[0;34m=\u001b[0m\u001b[0;34m(\u001b[0m\u001b[0;34m'recall'\u001b[0m\u001b[0;34m,\u001b[0m\u001b[0;34m)\u001b[0m\u001b[0;34m,\u001b[0m\u001b[0;34m\u001b[0m\u001b[0;34m\u001b[0m\u001b[0m\n\u001b[1;32m   1779\u001b[0m                                                  \u001b[0msample_weight\u001b[0m\u001b[0;34m=\u001b[0m\u001b[0msample_weight\u001b[0m\u001b[0;34m,\u001b[0m\u001b[0;34m\u001b[0m\u001b[0;34m\u001b[0m\u001b[0m\n\u001b[0;32m-> 1780\u001b[0;31m                                                  zero_division=zero_division)\n\u001b[0m\u001b[1;32m   1781\u001b[0m     \u001b[0;32mreturn\u001b[0m \u001b[0mr\u001b[0m\u001b[0;34m\u001b[0m\u001b[0;34m\u001b[0m\u001b[0m\n\u001b[1;32m   1782\u001b[0m \u001b[0;34m\u001b[0m\u001b[0m\n",
      "\u001b[0;32m/usr/local/lib/python3.6/dist-packages/sklearn/utils/validation.py\u001b[0m in \u001b[0;36minner_f\u001b[0;34m(*args, **kwargs)\u001b[0m\n\u001b[1;32m     61\u001b[0m             \u001b[0mextra_args\u001b[0m \u001b[0;34m=\u001b[0m \u001b[0mlen\u001b[0m\u001b[0;34m(\u001b[0m\u001b[0margs\u001b[0m\u001b[0;34m)\u001b[0m \u001b[0;34m-\u001b[0m \u001b[0mlen\u001b[0m\u001b[0;34m(\u001b[0m\u001b[0mall_args\u001b[0m\u001b[0;34m)\u001b[0m\u001b[0;34m\u001b[0m\u001b[0;34m\u001b[0m\u001b[0m\n\u001b[1;32m     62\u001b[0m             \u001b[0;32mif\u001b[0m \u001b[0mextra_args\u001b[0m \u001b[0;34m<=\u001b[0m \u001b[0;36m0\u001b[0m\u001b[0;34m:\u001b[0m\u001b[0;34m\u001b[0m\u001b[0;34m\u001b[0m\u001b[0m\n\u001b[0;32m---> 63\u001b[0;31m                 \u001b[0;32mreturn\u001b[0m \u001b[0mf\u001b[0m\u001b[0;34m(\u001b[0m\u001b[0;34m*\u001b[0m\u001b[0margs\u001b[0m\u001b[0;34m,\u001b[0m \u001b[0;34m**\u001b[0m\u001b[0mkwargs\u001b[0m\u001b[0;34m)\u001b[0m\u001b[0;34m\u001b[0m\u001b[0;34m\u001b[0m\u001b[0m\n\u001b[0m\u001b[1;32m     64\u001b[0m \u001b[0;34m\u001b[0m\u001b[0m\n\u001b[1;32m     65\u001b[0m             \u001b[0;31m# extra_args > 0\u001b[0m\u001b[0;34m\u001b[0m\u001b[0;34m\u001b[0m\u001b[0;34m\u001b[0m\u001b[0m\n",
      "\u001b[0;32m/usr/local/lib/python3.6/dist-packages/sklearn/metrics/_classification.py\u001b[0m in \u001b[0;36mprecision_recall_fscore_support\u001b[0;34m(y_true, y_pred, beta, labels, pos_label, average, warn_for, sample_weight, zero_division)\u001b[0m\n\u001b[1;32m   1463\u001b[0m         \u001b[0;32mraise\u001b[0m \u001b[0mValueError\u001b[0m\u001b[0;34m(\u001b[0m\u001b[0;34m\"beta should be >=0 in the F-beta score\"\u001b[0m\u001b[0;34m)\u001b[0m\u001b[0;34m\u001b[0m\u001b[0;34m\u001b[0m\u001b[0m\n\u001b[1;32m   1464\u001b[0m     labels = _check_set_wise_labels(y_true, y_pred, average, labels,\n\u001b[0;32m-> 1465\u001b[0;31m                                     pos_label)\n\u001b[0m\u001b[1;32m   1466\u001b[0m \u001b[0;34m\u001b[0m\u001b[0m\n\u001b[1;32m   1467\u001b[0m     \u001b[0;31m# Calculate tp_sum, pred_sum, true_sum ###\u001b[0m\u001b[0;34m\u001b[0m\u001b[0;34m\u001b[0m\u001b[0;34m\u001b[0m\u001b[0m\n",
      "\u001b[0;32m/usr/local/lib/python3.6/dist-packages/sklearn/metrics/_classification.py\u001b[0m in \u001b[0;36m_check_set_wise_labels\u001b[0;34m(y_true, y_pred, average, labels, pos_label)\u001b[0m\n\u001b[1;32m   1275\u001b[0m                          str(average_options))\n\u001b[1;32m   1276\u001b[0m \u001b[0;34m\u001b[0m\u001b[0m\n\u001b[0;32m-> 1277\u001b[0;31m     \u001b[0my_type\u001b[0m\u001b[0;34m,\u001b[0m \u001b[0my_true\u001b[0m\u001b[0;34m,\u001b[0m \u001b[0my_pred\u001b[0m \u001b[0;34m=\u001b[0m \u001b[0m_check_targets\u001b[0m\u001b[0;34m(\u001b[0m\u001b[0my_true\u001b[0m\u001b[0;34m,\u001b[0m \u001b[0my_pred\u001b[0m\u001b[0;34m)\u001b[0m\u001b[0;34m\u001b[0m\u001b[0;34m\u001b[0m\u001b[0m\n\u001b[0m\u001b[1;32m   1278\u001b[0m     \u001b[0;31m# Convert to Python primitive type to avoid NumPy type / Python str\u001b[0m\u001b[0;34m\u001b[0m\u001b[0;34m\u001b[0m\u001b[0;34m\u001b[0m\u001b[0m\n\u001b[1;32m   1279\u001b[0m     \u001b[0;31m# comparison. See https://github.com/numpy/numpy/issues/6784\u001b[0m\u001b[0;34m\u001b[0m\u001b[0;34m\u001b[0m\u001b[0;34m\u001b[0m\u001b[0m\n",
      "\u001b[0;32m/usr/local/lib/python3.6/dist-packages/sklearn/metrics/_classification.py\u001b[0m in \u001b[0;36m_check_targets\u001b[0;34m(y_true, y_pred)\u001b[0m\n\u001b[1;32m     82\u001b[0m     \"\"\"\n\u001b[1;32m     83\u001b[0m     \u001b[0mcheck_consistent_length\u001b[0m\u001b[0;34m(\u001b[0m\u001b[0my_true\u001b[0m\u001b[0;34m,\u001b[0m \u001b[0my_pred\u001b[0m\u001b[0;34m)\u001b[0m\u001b[0;34m\u001b[0m\u001b[0;34m\u001b[0m\u001b[0m\n\u001b[0;32m---> 84\u001b[0;31m     \u001b[0mtype_true\u001b[0m \u001b[0;34m=\u001b[0m \u001b[0mtype_of_target\u001b[0m\u001b[0;34m(\u001b[0m\u001b[0my_true\u001b[0m\u001b[0;34m)\u001b[0m\u001b[0;34m\u001b[0m\u001b[0;34m\u001b[0m\u001b[0m\n\u001b[0m\u001b[1;32m     85\u001b[0m     \u001b[0mtype_pred\u001b[0m \u001b[0;34m=\u001b[0m \u001b[0mtype_of_target\u001b[0m\u001b[0;34m(\u001b[0m\u001b[0my_pred\u001b[0m\u001b[0;34m)\u001b[0m\u001b[0;34m\u001b[0m\u001b[0;34m\u001b[0m\u001b[0m\n\u001b[1;32m     86\u001b[0m \u001b[0;34m\u001b[0m\u001b[0m\n",
      "\u001b[0;32m/usr/local/lib/python3.6/dist-packages/sklearn/utils/multiclass.py\u001b[0m in \u001b[0;36mtype_of_target\u001b[0;34m(y)\u001b[0m\n\u001b[1;32m    304\u001b[0m         \u001b[0;32mreturn\u001b[0m \u001b[0;34m'continuous'\u001b[0m \u001b[0;34m+\u001b[0m \u001b[0msuffix\u001b[0m\u001b[0;34m\u001b[0m\u001b[0;34m\u001b[0m\u001b[0m\n\u001b[1;32m    305\u001b[0m \u001b[0;34m\u001b[0m\u001b[0m\n\u001b[0;32m--> 306\u001b[0;31m     \u001b[0;32mif\u001b[0m \u001b[0;34m(\u001b[0m\u001b[0mlen\u001b[0m\u001b[0;34m(\u001b[0m\u001b[0mnp\u001b[0m\u001b[0;34m.\u001b[0m\u001b[0munique\u001b[0m\u001b[0;34m(\u001b[0m\u001b[0my\u001b[0m\u001b[0;34m)\u001b[0m\u001b[0;34m)\u001b[0m \u001b[0;34m>\u001b[0m \u001b[0;36m2\u001b[0m\u001b[0;34m)\u001b[0m \u001b[0;32mor\u001b[0m \u001b[0;34m(\u001b[0m\u001b[0my\u001b[0m\u001b[0;34m.\u001b[0m\u001b[0mndim\u001b[0m \u001b[0;34m>=\u001b[0m \u001b[0;36m2\u001b[0m \u001b[0;32mand\u001b[0m \u001b[0mlen\u001b[0m\u001b[0;34m(\u001b[0m\u001b[0my\u001b[0m\u001b[0;34m[\u001b[0m\u001b[0;36m0\u001b[0m\u001b[0;34m]\u001b[0m\u001b[0;34m)\u001b[0m \u001b[0;34m>\u001b[0m \u001b[0;36m1\u001b[0m\u001b[0;34m)\u001b[0m\u001b[0;34m:\u001b[0m\u001b[0;34m\u001b[0m\u001b[0;34m\u001b[0m\u001b[0m\n\u001b[0m\u001b[1;32m    307\u001b[0m         \u001b[0;32mreturn\u001b[0m \u001b[0;34m'multiclass'\u001b[0m \u001b[0;34m+\u001b[0m \u001b[0msuffix\u001b[0m  \u001b[0;31m# [1, 2, 3] or [[1., 2., 3]] or [[1, 2]]\u001b[0m\u001b[0;34m\u001b[0m\u001b[0;34m\u001b[0m\u001b[0m\n\u001b[1;32m    308\u001b[0m     \u001b[0;32melse\u001b[0m\u001b[0;34m:\u001b[0m\u001b[0;34m\u001b[0m\u001b[0;34m\u001b[0m\u001b[0m\n",
      "\u001b[0;32m<__array_function__ internals>\u001b[0m in \u001b[0;36munique\u001b[0;34m(*args, **kwargs)\u001b[0m\n",
      "\u001b[0;32m/usr/local/lib/python3.6/dist-packages/numpy/lib/arraysetops.py\u001b[0m in \u001b[0;36munique\u001b[0;34m(ar, return_index, return_inverse, return_counts, axis)\u001b[0m\n\u001b[1;32m    261\u001b[0m     \u001b[0mar\u001b[0m \u001b[0;34m=\u001b[0m \u001b[0mnp\u001b[0m\u001b[0;34m.\u001b[0m\u001b[0masanyarray\u001b[0m\u001b[0;34m(\u001b[0m\u001b[0mar\u001b[0m\u001b[0;34m)\u001b[0m\u001b[0;34m\u001b[0m\u001b[0;34m\u001b[0m\u001b[0m\n\u001b[1;32m    262\u001b[0m     \u001b[0;32mif\u001b[0m \u001b[0maxis\u001b[0m \u001b[0;32mis\u001b[0m \u001b[0;32mNone\u001b[0m\u001b[0;34m:\u001b[0m\u001b[0;34m\u001b[0m\u001b[0;34m\u001b[0m\u001b[0m\n\u001b[0;32m--> 263\u001b[0;31m         \u001b[0mret\u001b[0m \u001b[0;34m=\u001b[0m \u001b[0m_unique1d\u001b[0m\u001b[0;34m(\u001b[0m\u001b[0mar\u001b[0m\u001b[0;34m,\u001b[0m \u001b[0mreturn_index\u001b[0m\u001b[0;34m,\u001b[0m \u001b[0mreturn_inverse\u001b[0m\u001b[0;34m,\u001b[0m \u001b[0mreturn_counts\u001b[0m\u001b[0;34m)\u001b[0m\u001b[0;34m\u001b[0m\u001b[0;34m\u001b[0m\u001b[0m\n\u001b[0m\u001b[1;32m    264\u001b[0m         \u001b[0;32mreturn\u001b[0m \u001b[0m_unpack_tuple\u001b[0m\u001b[0;34m(\u001b[0m\u001b[0mret\u001b[0m\u001b[0;34m)\u001b[0m\u001b[0;34m\u001b[0m\u001b[0;34m\u001b[0m\u001b[0m\n\u001b[1;32m    265\u001b[0m \u001b[0;34m\u001b[0m\u001b[0m\n",
      "\u001b[0;32m/usr/local/lib/python3.6/dist-packages/numpy/lib/arraysetops.py\u001b[0m in \u001b[0;36m_unique1d\u001b[0;34m(ar, return_index, return_inverse, return_counts)\u001b[0m\n\u001b[1;32m    309\u001b[0m         \u001b[0maux\u001b[0m \u001b[0;34m=\u001b[0m \u001b[0mar\u001b[0m\u001b[0;34m[\u001b[0m\u001b[0mperm\u001b[0m\u001b[0;34m]\u001b[0m\u001b[0;34m\u001b[0m\u001b[0;34m\u001b[0m\u001b[0m\n\u001b[1;32m    310\u001b[0m     \u001b[0;32melse\u001b[0m\u001b[0;34m:\u001b[0m\u001b[0;34m\u001b[0m\u001b[0;34m\u001b[0m\u001b[0m\n\u001b[0;32m--> 311\u001b[0;31m         \u001b[0mar\u001b[0m\u001b[0;34m.\u001b[0m\u001b[0msort\u001b[0m\u001b[0;34m(\u001b[0m\u001b[0;34m)\u001b[0m\u001b[0;34m\u001b[0m\u001b[0;34m\u001b[0m\u001b[0m\n\u001b[0m\u001b[1;32m    312\u001b[0m         \u001b[0maux\u001b[0m \u001b[0;34m=\u001b[0m \u001b[0mar\u001b[0m\u001b[0;34m\u001b[0m\u001b[0;34m\u001b[0m\u001b[0m\n\u001b[1;32m    313\u001b[0m     \u001b[0mmask\u001b[0m \u001b[0;34m=\u001b[0m \u001b[0mnp\u001b[0m\u001b[0;34m.\u001b[0m\u001b[0mempty\u001b[0m\u001b[0;34m(\u001b[0m\u001b[0maux\u001b[0m\u001b[0;34m.\u001b[0m\u001b[0mshape\u001b[0m\u001b[0;34m,\u001b[0m \u001b[0mdtype\u001b[0m\u001b[0;34m=\u001b[0m\u001b[0mnp\u001b[0m\u001b[0;34m.\u001b[0m\u001b[0mbool_\u001b[0m\u001b[0;34m)\u001b[0m\u001b[0;34m\u001b[0m\u001b[0;34m\u001b[0m\u001b[0m\n",
      "\u001b[0;31mTypeError\u001b[0m: '<' not supported between instances of 'float' and 'str'"
     ]
    }
   ],
   "source": [
    "pred_dict=data\n",
    "true_lab, pred_lab = np.array(pred_dict['true_label'].values), np.array(pred_dict['top1'].values)\n",
    "\n",
    "# top1 = test_utils.topK_accuracy(true_lab, pred_lab, K=1)\n",
    "# top5 = test_utils.topK_accuracy(true_lab, pred_lab, K=5)\n",
    "\n",
    "# print('Top1 accuracy: {:.1f} %'.format(top1 * 100))\n",
    "# print('Top5 accuracy: {:.1f} %'.format(top5 * 100))\n",
    "\n",
    "labels = range(len(class_names))\n",
    "print('\\n')\n",
    "print('Micro recall: {:.1f} %'.format(100 * recall_score(true_lab, pred_lab, labels=labels, average='micro')))\n",
    "print('Macro recall: {:.1f} %'.format(100 * recall_score(true_lab, pred_lab[:, 0], labels=labels, average='macro')))\n",
    "print('Macro recall (no labels): {:.1f} %'.format(100 * recall_score(true_lab, pred_lab[:, 0], average='macro')))\n",
    "print('Weighted recall: {:.1f} %'.format(100 * recall_score(true_lab, pred_lab[:, 0], labels=labels, average='weighted')))\n",
    "\n",
    "print('\\n')\n",
    "print('Micro precision: {:.1f} %'.format(100 * precision_score(true_lab, pred_lab[:, 0], labels=labels, average='micro')))\n",
    "print('Macro precision: {:.1f} %'.format(100 * precision_score(true_lab, pred_lab[:, 0], labels=labels, average='macro')))\n",
    "print('Macro precision (no labels): {:.1f} %'.format(100 * precision_score(true_lab, pred_lab[:, 0], average='macro')))\n",
    "print('Weighted precision: {:.1f} %'.format(100 * precision_score(true_lab, pred_lab[:, 0], labels=labels, average='weighted')))\n",
    "\n",
    "print('\\n')\n",
    "print('Micro F1 score: {:.1f} %'.format(100 * f1_score(true_lab, pred_lab[:, 0], labels=labels, average='micro')))\n",
    "print('Macro F1 score: {:.1f} %'.format(100 * f1_score(true_lab, pred_lab[:, 0], labels=labels, average='macro')))\n",
    "print('Macro F1 score (no labels): {:.1f} %'.format(100 * f1_score(true_lab, pred_lab[:, 0], average='macro')))\n",
    "print('Weighted F1 score: {:.1f} %'.format(100 * f1_score(true_lab, pred_lab[:, 0], labels=labels, average='weighted')))"
   ]
  },
  {
   "attachments": {},
   "cell_type": "markdown",
   "metadata": {},
   "source": [
    "Create Folder"
   ]
  },
  {
   "cell_type": "code",
   "execution_count": 15,
   "metadata": {},
   "outputs": [
    {
     "name": "stdout",
     "output_type": "stream",
     "text": [
      "/srv/phyto-plankton-classification/models/2023-06-05_143422/results created\n"
     ]
    }
   ],
   "source": [
    "folder_path=os.path.join(paths.get_timestamped_dir(),\"results\")\n",
    "# folder_path = \"models/2023-06-05_143422/results\"  # Replace with the desired folder path\n",
    "if not os.path.exists(folder_path):\n",
    "    os.makedirs(folder_path)\n",
    "print(folder_path, \"created\")"
   ]
  },
  {
   "attachments": {},
   "cell_type": "markdown",
   "metadata": {},
   "source": [
    "## Computing the metrics\n",
    "\n",
    "Check [sklearn](https://scikit-learn.org/stable/modules/classes.html#classification-metrics) for more classification metrics."
   ]
  },
  {
   "cell_type": "code",
   "execution_count": 3,
   "metadata": {},
   "outputs": [
    {
     "name": "stdout",
     "output_type": "stream",
     "text": [
      "Top1 accuracy: 90.3 %\n",
      "Top5 accuracy: 99.5 %\n",
      "\n",
      "\n",
      "Micro recall: 90.3 %\n",
      "Macro recall: 90.3 %\n",
      "Macro recall (no labels): 90.3 %\n",
      "Weighted recall: 90.3 %\n",
      "\n",
      "\n",
      "Micro precision: 90.3 %\n",
      "Macro precision: 91.7 %\n",
      "Macro precision (no labels): 91.7 %\n",
      "Weighted precision: 91.7 %\n",
      "\n",
      "\n",
      "Micro F1 score: 90.3 %\n",
      "Macro F1 score: 90.2 %\n",
      "Macro F1 score (no labels): 90.2 %\n",
      "Weighted F1 score: 90.2 %\n"
     ]
    }
   ],
   "source": [
    "true_lab, pred_lab = np.array(pred_dict['true_lab']), np.array(pred_dict['pred_lab'])\n",
    "\n",
    "top1 = test_utils.topK_accuracy(true_lab, pred_lab, K=1)\n",
    "top5 = test_utils.topK_accuracy(true_lab, pred_lab, K=5)\n",
    "\n",
    "print('Top1 accuracy: {:.1f} %'.format(top1 * 100))\n",
    "print('Top5 accuracy: {:.1f} %'.format(top5 * 100))\n",
    "\n",
    "labels = range(len(class_names))\n",
    "print('\\n')\n",
    "print('Micro recall: {:.1f} %'.format(100 * recall_score(true_lab, pred_lab[:, 0], labels=labels, average='micro')))\n",
    "print('Macro recall: {:.1f} %'.format(100 * recall_score(true_lab, pred_lab[:, 0], labels=labels, average='macro')))\n",
    "print('Macro recall (no labels): {:.1f} %'.format(100 * recall_score(true_lab, pred_lab[:, 0], average='macro')))\n",
    "print('Weighted recall: {:.1f} %'.format(100 * recall_score(true_lab, pred_lab[:, 0], labels=labels, average='weighted')))\n",
    "\n",
    "print('\\n')\n",
    "print('Micro precision: {:.1f} %'.format(100 * precision_score(true_lab, pred_lab[:, 0], labels=labels, average='micro')))\n",
    "print('Macro precision: {:.1f} %'.format(100 * precision_score(true_lab, pred_lab[:, 0], labels=labels, average='macro')))\n",
    "print('Macro precision (no labels): {:.1f} %'.format(100 * precision_score(true_lab, pred_lab[:, 0], average='macro')))\n",
    "print('Weighted precision: {:.1f} %'.format(100 * precision_score(true_lab, pred_lab[:, 0], labels=labels, average='weighted')))\n",
    "\n",
    "print('\\n')\n",
    "print('Micro F1 score: {:.1f} %'.format(100 * f1_score(true_lab, pred_lab[:, 0], labels=labels, average='micro')))\n",
    "print('Macro F1 score: {:.1f} %'.format(100 * f1_score(true_lab, pred_lab[:, 0], labels=labels, average='macro')))\n",
    "print('Macro F1 score (no labels): {:.1f} %'.format(100 * f1_score(true_lab, pred_lab[:, 0], average='macro')))\n",
    "print('Weighted F1 score: {:.1f} %'.format(100 * f1_score(true_lab, pred_lab[:, 0], labels=labels, average='weighted')))"
   ]
  },
  {
   "attachments": {},
   "cell_type": "markdown",
   "metadata": {},
   "source": [
    "## Computing the confusion matrix"
   ]
  },
  {
   "attachments": {},
   "cell_type": "markdown",
   "metadata": {},
   "source": [
    "### Standard confusion matrix"
   ]
  },
  {
   "cell_type": "code",
   "execution_count": 62,
   "metadata": {},
   "outputs": [],
   "source": [
    "def plot_confusion_matrices(data, save_path=None, weighted=False,comments=\"normal\"):\n",
    "    \"\"\"\n",
    "    Plot confusion matrices and weighted confusion matrices for different thresholds using the provided data.\n",
    "\n",
    "    Args:\n",
    "        data (pandas.DataFrame): DataFrame containing the necessary data for plotting.\n",
    "        save_path (str): Path where the plots will be saved.\n",
    "        weighted (bool): Flag indicating whether to compute weighted confusion matrices.\n",
    "    \"\"\"\n",
    "\n",
    "    # Define the labels\n",
    "    class_names = np.unique(data[\"top1\"])\n",
    "\n",
    "    # Define the range for iterations\n",
    "    myrange = np.arange(0, 1, 0.25)\n",
    "\n",
    "    # Create the directory for saving the plots\n",
    "    pred_path = create_pred_path(save_path, dir=\"confusion\", weighted=weighted, comments=comments)\n",
    "\n",
    "\n",
    "    # Iterate over the range\n",
    "    for i in myrange:\n",
    "        # Get the current time\n",
    "        current_time = datetime.datetime.now().strftime(\"%Y-%m-%d %H:%M:%S\")\n",
    "        print(f\"[{current_time}] Plotting Confusion Matrix for {i}\")\n",
    "\n",
    "        # Filter the data based on a condition\n",
    "        slice = data[data[\"probability\"] > i]\n",
    "\n",
    "        # Extract true labels and predicted labels\n",
    "        y_true = np.array(slice[\"true_label\"])\n",
    "        y_pred = np.array(slice[\"top1\"])\n",
    "\n",
    "        y_true = y_true.astype(str)\n",
    "        y_pred = y_pred.astype(str)\n",
    "        # Compute the confusion matrix\n",
    "        weights = np.array(slice[\"probability\"]) if weighted else None\n",
    "        conf_mat = confusion_matrix(y_true, y_pred, labels=np.unique(y_pred), sample_weight=weights)\n",
    "\n",
    "        # Normalize the confusion matrix\n",
    "        normed_conf = conf_mat / np.sum(conf_mat, axis=1)[:, np.newaxis]\n",
    "\n",
    "        # Plot the confusion matrix using the custom function plt_conf_matrix\n",
    "        fig, ax = plt_conf_matrix(normed_conf, class_names)\n",
    "\n",
    "        # Save the plot\n",
    "        # Determine the file name suffix based on weighted option\n",
    "        file_suffix = f\"weighted_{i:.2f}\" if weighted else f\"_{i:.2f}\"\n",
    "\n",
    "        # Save the confusion matrix plot\n",
    "        fig.savefig(f\"{pred_path}/confusion_matrix{file_suffix}.jpg\", bbox_inches='tight')\n",
    "        plt.close(fig)\n",
    "    print(f\"Saved in {pred_path}\")\n"
   ]
  },
  {
   "cell_type": "code",
   "execution_count": 63,
   "metadata": {},
   "outputs": [
    {
     "name": "stdout",
     "output_type": "stream",
     "text": [
      "[2023-10-04 15:13:03] Plotting Confusion Matrix for 0.0\n",
      "[2023-10-04 15:13:06] Plotting Confusion Matrix for 0.25\n",
      "[2023-10-04 15:13:08] Plotting Confusion Matrix for 0.5\n",
      "[2023-10-04 15:13:11] Plotting Confusion Matrix for 0.75\n",
      "Saved in /srv/phyto-plankton-classification/models/2023-06-05_143422/results/confusion/normal\n"
     ]
    }
   ],
   "source": [
    "plot_confusion_matrices(data, save_path=False)"
   ]
  },
  {
   "attachments": {},
   "cell_type": "markdown",
   "metadata": {},
   "source": [
    "### Weighted confusion matrix\n",
    "We weight each count in the confusion matrix by the probability of the prediction."
   ]
  },
  {
   "cell_type": "code",
   "execution_count": 64,
   "metadata": {},
   "outputs": [
    {
     "name": "stdout",
     "output_type": "stream",
     "text": [
      "[2023-10-04 15:13:22] Plotting Confusion Matrix for 0.0\n",
      "[2023-10-04 15:13:24] Plotting Confusion Matrix for 0.25\n",
      "[2023-10-04 15:13:27] Plotting Confusion Matrix for 0.5\n",
      "[2023-10-04 15:13:30] Plotting Confusion Matrix for 0.75\n",
      "Saved in /srv/phyto-plankton-classification/models/2023-06-05_143422/results/confusion/confusion_weighted\n"
     ]
    }
   ],
   "source": [
    "# Create the directory for saving the plots\n",
    "plot_confusion_matrices(data,save_path=False,weighted=True)"
   ]
  },
  {
   "attachments": {},
   "cell_type": "markdown",
   "metadata": {},
   "source": [
    "### Metrics evolution in function of cut-off \n",
    "The evolution of differnt metrics is shown for different cut-off values. All data below this cut-off is discarted when plotting new metrics."
   ]
  },
  {
   "cell_type": "code",
   "execution_count": 65,
   "metadata": {},
   "outputs": [],
   "source": [
    "def plot_evolution_cut_off(data, save_path=False,comments=\"\"):\n",
    "    \"\"\"\n",
    "    Plot the evolution of metrics with varying cutoff probability.\n",
    "\n",
    "    Args:\n",
    "        data (DataFrame): Input data containing \"probability\", \"top1\", and \"true_label\" columns.\n",
    "        save_path (str): Path where the plots will be saved.\n",
    "\n",
    "    Returns:\n",
    "        None (plots are displayed and saved)\n",
    "    \"\"\"\n",
    "    myrange = np.arange(0, 1, 0.02)\n",
    "\n",
    "    pred_path = create_pred_path(save_path, dir=\"cut_off_changes\",comments=comments)\n",
    "\n",
    "    for cl in np.unique(data[\"top1\"]):\n",
    "        print(f\"Plotting cutoff probability for {cl}\")\n",
    "\n",
    "        metrics = []\n",
    "        data_slice = []\n",
    "\n",
    "        for i in myrange:\n",
    "            slice_data = data[data[\"probability\"] > i]\n",
    "            data_slice.append(compute_data_slice(slice_data, cl))\n",
    "\n",
    "            TP, FP, FN, TN = calculate_confusion_matrix(slice_data, cl)\n",
    "            precision, recall, outer_precision, outer_recall, f1_score, accuracy, specificity, fpr, fnr, auc_roc = compute_metrics(slice_data, cl, TP, FP, FN, TN)\n",
    "\n",
    "            metrics.append((precision, recall, outer_precision, outer_recall, f1_score, accuracy, specificity, fpr, fnr, auc_roc))\n",
    "\n",
    "        plot_metrics(myrange, metrics, data_slice, cl, pred_path)\n",
    "\n",
    "    print(\"Plots saved in:\", pred_path)\n",
    "\n",
    "\n",
    "\n",
    "\n",
    "def compute_data_slice(slice_data, cl):\n",
    "    return np.sum(slice_data['top1'] == cl) / np.sum(data['top1'] == cl)\n",
    "\n",
    "\n",
    "def calculate_confusion_matrix(slice_data, cl):\n",
    "    TP = np.sum((slice_data[\"true_label\"] == cl) & (slice_data[\"top1\"] == cl))\n",
    "    FP = np.sum((slice_data[\"true_label\"] != cl) & (slice_data[\"top1\"] == cl))\n",
    "    FN = np.sum((slice_data[\"true_label\"] == cl) & (slice_data[\"top1\"] != cl))\n",
    "    TN = np.sum((slice_data[\"true_label\"] != cl) & (slice_data[\"top1\"] != cl))\n",
    "    return TP, FP, FN, TN\n",
    "\n",
    "\n",
    "def compute_metrics(slice_data, cl, TP, FP, FN, TN):\n",
    "    precision = TP / (TP + FP)\n",
    "    recall = TP / (TP + FN)\n",
    "    outer_precision = TP / np.sum(slice_data[\"top1\"] == cl)\n",
    "    outer_recall = TP / np.sum(slice_data[\"true_label\"] == cl)\n",
    "\n",
    "    f1_score = 2 * (precision * recall) / (precision + recall)\n",
    "    accuracy = (TP + TN) / (TP + TN + FP + FN)\n",
    "    specificity = TN / (TN + FP)\n",
    "    fpr = FP / (FP + TN)\n",
    "    fnr = FN / (FN + TP)\n",
    "\n",
    "    if np.sum((slice_data[\"true_label\"] == cl)) != 0:\n",
    "        auc_roc = roc_auc_score((slice_data[\"true_label\"] == cl).astype(int), slice_data[\"probability\"])\n",
    "    else:\n",
    "        auc_roc = 0\n",
    "\n",
    "    return precision, recall, outer_precision, outer_recall, f1_score, accuracy, specificity, fpr, fnr, auc_roc\n",
    "\n",
    "\n",
    "def plot_metrics(myrange, metrics, data_slice, cl, pred_path):\n",
    "    plt.figure(figsize=(12, 8))\n",
    "    cmap = plt.get_cmap('tab10')\n",
    "    colors = cmap(np.linspace(0, 1, 12))\n",
    "\n",
    "    plt.plot(myrange, [m[0] for m in metrics], label=\"Precision\", linestyle='-', marker='o', color=colors[0])\n",
    "    plt.plot(myrange, [m[1] for m in metrics], label=\"Recall\", linestyle='--', marker='s', color=colors[1])\n",
    "    plt.plot(myrange, data_slice, label=\"Loss of Predictions\", linestyle='-', marker='*', color=colors[4])\n",
    "\n",
    "    plt.plot(myrange, [m[2] for m in metrics], label=\"Outer Precision\", linestyle=':', marker='^', color=colors[2])\n",
    "    plt.plot(myrange, [m[3] for m in metrics], label=\"Outer Recall\", linestyle='-.', marker='D', color=colors[3])\n",
    "\n",
    "    plt.plot(myrange, [m[4] for m in metrics], label=\"F1 Score\", linestyle='-', marker='x', color=colors[5])\n",
    "    plt.plot(myrange, [m[5] for m in metrics], label=\"Accuracy\", linestyle='--', marker='o', color=colors[6])\n",
    "    plt.plot(myrange, [m[6] for m in metrics], label=\"Specificity\", linestyle=':', marker='s', color=colors[7])\n",
    "    plt.plot(myrange, [m[7] for m in metrics], label=\"False Positive Rate\", linestyle='-.', marker='^', color=colors[8])\n",
    "    plt.plot(myrange, [m[8] for m in metrics], label=\"False Negative Rate\", linestyle='-', marker='D', color=colors[9])\n",
    "    plt.plot(myrange, [m[9] for m in metrics], label=\"AUC-ROC\", linestyle='--', marker='*', color=colors[10])\n",
    "\n",
    "    plt.legend(loc='best', fontsize='medium')\n",
    "    plt.xlabel(\"Cutoff value for probability\", fontsize='large')\n",
    "    plt.ylabel(\"Metric Score\", fontsize='large')\n",
    "    plt.title(cl, fontsize='x-large')\n",
    "\n",
    "    plt.xticks(fontsize='medium')\n",
    "    plt.yticks(fontsize='medium')\n",
    "\n",
    "    plt.grid(True, linestyle='--', alpha=0.7)\n",
    "\n",
    "    plt.savefig(f\"{pred_path}/{cl.replace('/', '+')}.jpg\", bbox_inches='tight')\n",
    "    plt.close()\n"
   ]
  },
  {
   "cell_type": "code",
   "execution_count": 86,
   "metadata": {},
   "outputs": [
    {
     "name": "stdout",
     "output_type": "stream",
     "text": [
      "Plotting cutoff probability for Actinoptychus\n",
      "Plotting cutoff probability for Actinoptychus senarius\n",
      "Plotting cutoff probability for Actinoptychus splendens\n",
      "Plotting cutoff probability for Appendicularia\n",
      "Plotting cutoff probability for Asterionella\n",
      "Plotting cutoff probability for Aulacodiscus argus\n",
      "Plotting cutoff probability for Bacillaria paxillifer\n",
      "Plotting cutoff probability for Bacillariophyceae\n",
      "Plotting cutoff probability for Bacillariophyceae_type1_colony\n",
      "Plotting cutoff probability for Bacteriastrum\n",
      "Plotting cutoff probability for Bellerochea horologicalis\n",
      "Plotting cutoff probability for Biddulphia alternans\n",
      "Plotting cutoff probability for Biddulphianae\n",
      "Plotting cutoff probability for Brockmanniella brockmannii\n",
      "Plotting cutoff probability for Bubbles\n",
      "Plotting cutoff probability for Centric Diatom\n",
      "Plotting cutoff probability for Ceratium horridum/C. longipes\n",
      "Plotting cutoff probability for Chaetoceros\n",
      "Plotting cutoff probability for Chaetoceros affinis\n",
      "Plotting cutoff probability for Chaetoceros curvisetus/C. pseudocurvisetus\n",
      "Plotting cutoff probability for Chaetoceros danicus\n",
      "Plotting cutoff probability for Chaetoceros socialis\n",
      "Plotting cutoff probability for Ciliophora:part\n",
      "Plotting cutoff probability for Copepoda adult\n",
      "Plotting cutoff probability for Coscinodiscus concinnus\n",
      "Plotting cutoff probability for Coscinodiscus granii\n",
      "Plotting cutoff probability for Crustacea\n",
      "Plotting cutoff probability for Crustaceae:part\n",
      "Plotting cutoff probability for Dactyliosolen/Cerataulina/Guinardia\n",
      "Plotting cutoff probability for Detritus\n",
      "Plotting cutoff probability for Dinoflagellata\n",
      "Plotting cutoff probability for Dinoflagellate cyst\n",
      "Plotting cutoff probability for Diploneis\n",
      "Plotting cutoff probability for Ditylum brightwellii\n",
      "Plotting cutoff probability for Egg/Cyst\n",
      "Plotting cutoff probability for Eucampia\n",
      "Plotting cutoff probability for Faecal pellet\n",
      "Plotting cutoff probability for Favella\n",
      "Plotting cutoff probability for Fibers\n",
      "Plotting cutoff probability for Guinardia delicatula\n",
      "Plotting cutoff probability for Guinardia flaccida\n",
      "Plotting cutoff probability for Guinardia striata/Dactyliosolen phuketensis\n",
      "Plotting cutoff probability for Helicotheca tamesis\n",
      "Plotting cutoff probability for Hobaniella longicruris\n",
      "Plotting cutoff probability for Lauderia/Melosira/Detonula\n",
      "Plotting cutoff probability for Leptocylindraceae\n",
      "Plotting cutoff probability for Lithodesmium undulatum\n",
      "Plotting cutoff probability for Long (chained) diatom\n",
      "Plotting cutoff probability for Meuniera membranacea\n",
      "Plotting cutoff probability for Mollusca incertae\n",
      "Plotting cutoff probability for Nauplii\n",
      "Plotting cutoff probability for Neocalyptrella robusta\n",
      "Plotting cutoff probability for Noctiluca scintillans\n",
      "Plotting cutoff probability for Noctilucales\n",
      "Plotting cutoff probability for Odontella aurita/Ralfsiella minima\n",
      "Plotting cutoff probability for Paralia\n",
      "Plotting cutoff probability for Pennate Diatom\n",
      "Plotting cutoff probability for Peritrichia\n",
      "Plotting cutoff probability for Phytoplankton Colony\n",
      "Plotting cutoff probability for Pleurosira laevis\n",
      "Plotting cutoff probability for Pollen\n",
      "Plotting cutoff probability for Polychaeta\n",
      "Plotting cutoff probability for Porifera spicule\n",
      "Plotting cutoff probability for Proboscia alata\n",
      "Plotting cutoff probability for Proboscia indica\n",
      "Plotting cutoff probability for Protoperidinium\n",
      "Plotting cutoff probability for Pseudo-nitzschia\n",
      "Plotting cutoff probability for Rhizosolenia\n",
      "Plotting cutoff probability for Rhizosolenia setigera (f. pungens)/R. hebetata f. semispina\n",
      "Plotting cutoff probability for Rotifera\n",
      "Plotting cutoff probability for Skeletonema\n",
      "Plotting cutoff probability for Stellarima stellaris/Podosira/Hyalodiscus\n",
      "Plotting cutoff probability for Stephanopyxis\n",
      "Plotting cutoff probability for Suctoria\n",
      "Plotting cutoff probability for Synedra/Thalassionema\n",
      "Plotting cutoff probability for Thalassiosira/Porosira\n",
      "Plotting cutoff probability for Tintinnina\n",
      "Plotting cutoff probability for Triceratium favus\n",
      "Plotting cutoff probability for Trieres mobiliensis/T. regia\n",
      "Plotting cutoff probability for Trieres sinensis\n",
      "Plotting cutoff probability for Tripos\n",
      "Plotting cutoff probability for Tripos fusus\n",
      "Plotting cutoff probability for Tripos:part\n",
      "Plotting cutoff probability for Unknown_3\n",
      "Plotting cutoff probability for Veliger larvae D-shaped\n",
      "Plotting cutoff probability for Zooplankton\n",
      "Plotting cutoff probability for Zygoceros\n",
      "Plots saved in: /srv/phyto-plankton-classification/models/2023-06-05_143422/results/cut_off_changes/\n"
     ]
    }
   ],
   "source": [
    "plot_evolution_cut_off(data, save_path=False)"
   ]
  },
  {
   "attachments": {},
   "cell_type": "markdown",
   "metadata": {},
   "source": [
    "### The Proportional and absolute progression of TRUE class is shown\n"
   ]
  },
  {
   "cell_type": "code",
   "execution_count": 7,
   "metadata": {},
   "outputs": [],
   "source": [
    "def plot_classwise_progression(data,save_path,comments=\"\"):\n",
    "    \"\"\"\n",
    "    Plot the class-wise progression of TRUE class distribution for different cutoff values.\n",
    "\n",
    "    Args:\n",
    "        data (pandas.DataFrame): DataFrame containing the necessary data for plotting.\n",
    "    \"\"\"\n",
    "\n",
    "    # Define the range for iterations\n",
    "    myrange = np.arange(0, 1, 0.02)\n",
    "\n",
    "    # Create directory for saving results\n",
    "    pred_path = create_pred_path(save_path, dir=\"proportional_progression\",comments=comments)\n",
    "\n",
    "\n",
    "    for cl in np.unique(data[\"top1\"]):\n",
    "        print(f\"Plotting proportional progression for {cl}\")\n",
    "        compo = pd.DataFrame(data[data['top1'] == cl][\"true_label\"].value_counts())\n",
    "        for j, i in enumerate(myrange):\n",
    "            slice = data[data[\"probability\"] > i]\n",
    "            x = slice[slice['top1']==cl][\"true_label\"].value_counts()\n",
    "            compo[str(j)] = x\n",
    "\n",
    "\n",
    "        compo = compo.drop(\"true_label\", axis=1)\n",
    "        plotdata = compo / compo.sum()\n",
    "        plotdata1 = plotdata[plotdata > 0.01] * 100\n",
    "        plotdata2 = compo[plotdata > 0.01]\n",
    "        plotdata1.columns = myrange\n",
    "        plotdata2.columns = myrange\n",
    "        fig, axs = plt.subplots(1, 2, figsize=(16, 6))\n",
    "        plotdata1.dropna(how=\"all\").transpose().plot.area(ax=axs[0], legend=False,\n",
    "                                                          title=\"proportional progression of TRUE class distribution\",\n",
    "                                                          xlabel=\"Cutoff value for probability\",\n",
    "                                                          ylabel=\"Class proportion (%)\")\n",
    "        plotdata2.dropna(how=\"all\").transpose().plot.area(ax=axs[1],\n",
    "                                                          title=\"absolute progression of TRUE class distribution\",\n",
    "                                                          xlabel=\"Cutoff value for probability\",\n",
    "                                                          ylabel=\"Class count\")\n",
    "        plt.suptitle(cl)\n",
    "\n",
    "        # Save the plot\n",
    "        plt.savefig(f\"{pred_path}/{cl.replace('/', '+')}.jpg\", bbox_inches='tight')\n",
    "        plt.close()\n"
   ]
  },
  {
   "cell_type": "code",
   "execution_count": 14,
   "metadata": {},
   "outputs": [
    {
     "ename": "NameError",
     "evalue": "name 'save_path' is not defined",
     "output_type": "error",
     "traceback": [
      "\u001b[0;31m---------------------------------------------------------------------------\u001b[0m",
      "\u001b[0;31mNameError\u001b[0m                                 Traceback (most recent call last)",
      "\u001b[0;32m<ipython-input-14-29d307d65113>\u001b[0m in \u001b[0;36m<module>\u001b[0;34m\u001b[0m\n\u001b[0;32m----> 1\u001b[0;31m \u001b[0msave_path\u001b[0m\u001b[0;34m\u001b[0m\u001b[0;34m\u001b[0m\u001b[0m\n\u001b[0m",
      "\u001b[0;31mNameError\u001b[0m: name 'save_path' is not defined"
     ]
    }
   ],
   "source": [
    "save_path"
   ]
  },
  {
   "cell_type": "code",
   "execution_count": 8,
   "metadata": {},
   "outputs": [
    {
     "name": "stdout",
     "output_type": "stream",
     "text": [
      "Plotting proportional progression for Actinoptychus_senarius\n",
      "Plotting proportional progression for Appendicularia\n",
      "Plotting proportional progression for Artefacts\n",
      "Plotting proportional progression for Asterionellopsis_glacialis\n",
      "Plotting proportional progression for Bacillaria_paxillifer\n",
      "Plotting proportional progression for Bacteriastrum\n",
      "Plotting proportional progression for Bellerochea_horologicalis\n",
      "Plotting proportional progression for Biddulphia_alternans\n",
      "Plotting proportional progression for Brockmanniella_brockmannii\n",
      "Plotting proportional progression for Centric_Diatom\n",
      "Plotting proportional progression for Chaetoceros\n",
      "Plotting proportional progression for Coscinodiscus_granii\n",
      "Plotting proportional progression for Crustacea\n",
      "Plotting proportional progression for Detritus\n",
      "Plotting proportional progression for Dissodinium\n",
      "Plotting proportional progression for Ditylum_brightwellii\n",
      "Plotting proportional progression for Eggs\n",
      "Plotting proportional progression for Equinoderm_Larvae\n",
      "Plotting proportional progression for Eucampia\n",
      "Plotting proportional progression for Favella_ehrenbergii\n",
      "Plotting proportional progression for Fibers\n",
      "Plotting proportional progression for Guinardia_Dactyliosolen\n",
      "Plotting proportional progression for Guinardia_delicatula\n",
      "Plotting proportional progression for Guinardia_flaccida\n",
      "Plotting proportional progression for Guinardia_striata\n",
      "Plotting proportional progression for Helicotheca_tamesis\n",
      "Plotting proportional progression for Lauderia_annulata\n",
      "Plotting proportional progression for Lithodesmium_undulatum\n",
      "Plotting proportional progression for Long_chained_diatom\n",
      "Plotting proportional progression for Meuniera_membranacea\n",
      "Plotting proportional progression for Neocalyptrella_robusta\n",
      "Plotting proportional progression for Noctiluca\n",
      "Plotting proportional progression for Paralia_sulcata\n",
      "Plotting proportional progression for Plagiogrammopsis_vanheurckii\n",
      "Plotting proportional progression for Pleurosigma_Gyrosigma\n",
      "Plotting proportional progression for Polychaeta_Larvae\n",
      "Plotting proportional progression for Proboscia\n",
      "Plotting proportional progression for Protoperidinium\n",
      "Plotting proportional progression for Pseudo-nitzschia\n",
      "Plotting proportional progression for Rhizosolenia\n",
      "Plotting proportional progression for Rotifera\n",
      "Plotting proportional progression for Skeletonema\n",
      "Plotting proportional progression for Stephanopyxis_turris\n",
      "Plotting proportional progression for Suctoria\n",
      "Plotting proportional progression for Thalassionema\n",
      "Plotting proportional progression for Thalassiosira_Porosira\n",
      "Plotting proportional progression for Tintinnopsis\n",
      "Plotting proportional progression for Triceratium_favus\n",
      "Plotting proportional progression for Trieres_sinensis\n",
      "Plotting proportional progression for Tripos\n",
      "Plotting proportional progression for Tripos_furca\n",
      "Plotting proportional progression for Tripos_fusus\n",
      "Plotting proportional progression for Tripos_lineatus\n",
      "Plotting proportional progression for Zygoceros\n"
     ]
    }
   ],
   "source": [
    "plot_classwise_progression(data,save_path=False)"
   ]
  },
  {
   "attachments": {},
   "cell_type": "markdown",
   "metadata": {},
   "source": [
    "**Define cutoff - Nic**"
   ]
  },
  {
   "cell_type": "code",
   "execution_count": 3,
   "metadata": {},
   "outputs": [],
   "source": [
    "# Function to define the cutoff probability for a given class\n",
    "def define_cutoff(data, cl, p_aim=0.95):\n",
    "    # Slice the data for the specific class and sort it in descending order based on probability\n",
    "    slice = data[data[\"top1\"] == cl].sort_values(by=\"probability\", ascending=False).reset_index()\n",
    "    # Calculate the precision for each position in the slice\n",
    "    prec_list = np.cumsum(slice[\"top1_correct\"]) / (slice.index + 1)\n",
    "    # Find the positions where precision exceeds the desired aim\n",
    "    acceptable_probabs = np.where(prec_list > p_aim)[0]\n",
    "    if len(acceptable_probabs) > 0:\n",
    "        # Return the minimum probability from the acceptable positions\n",
    "        return np.min(slice['probability'][acceptable_probabs])\n",
    "    else:\n",
    "        # If no acceptable positions, return infinity\n",
    "        return np.inf\n",
    "\n",
    "# Function to apply the mask to the data based on the cutoff probabilities\n",
    "def apply_mask(data, mask_data):\n",
    "    # Initialize a mask with False values for each data point\n",
    "    data_mask = np.repeat(False, len(data))\n",
    "    for _, x in mask_data.iterrows():\n",
    "        # Update the mask where the class and probability satisfy the cutoff criteria\n",
    "        data_mask[(data[\"top1\"] == x[\"Class\"]) & (data[\"probability\"] >= x[\"probability_cutoff\"])] = True\n",
    "    # Return the masked data\n",
    "    return data[data_mask]\n",
    "\n",
    "def mask_creater(p_aim,data):\n",
    "    mask = [[x, define_cutoff(data, x, p_aim=p_aim)] for x in np.unique(data['top1'])]\n",
    "    mask_data = pd.DataFrame(mask, columns=['Class', \"probability_cutoff\"])\n",
    "    masked_data = apply_mask(data, mask_data)\n",
    "    return masked_data "
   ]
  },
  {
   "cell_type": "code",
   "execution_count": 4,
   "metadata": {},
   "outputs": [],
   "source": [
    "from tqdm import tqdm"
   ]
  },
  {
   "cell_type": "code",
   "execution_count": 5,
   "metadata": {},
   "outputs": [],
   "source": [
    "def plot_summary_threshold(data, save_path=False,comments=\"\"):\n",
    "    \"\"\"\n",
    "    Plot the scores on a masked DataFrame with aimed precision.\n",
    "\n",
    "    Args:\n",
    "        data (pandas.DataFrame): DataFrame containing the necessary data for plotting.\n",
    "        name (str): Name of the plot.\n",
    "    \"\"\"\n",
    "\n",
    "    # Define the range of precision values to aim for\n",
    "    myrange = np.concatenate((np.arange(0.5, 0.95, 0.01), np.arange(0.95, 0.995, 0.005)))\n",
    "\n",
    "    # Create directory for saving results\n",
    "    pred_path = create_pred_path(save_path, dir=\"summary_threshold\",comments=comments)\n",
    "\n",
    "    # Initialize arrays to store the evaluation metrics\n",
    "    acc= np.zeros(len(myrange))\n",
    "    pr_weighted = np.zeros(len(myrange))\n",
    "    rec_weighted = np.zeros(len(myrange))\n",
    "    f1_weighted = np.zeros(len(myrange))\n",
    "    pr_macro = np.zeros(len(myrange))\n",
    "    rec_macro = np.zeros(len(myrange))\n",
    "    f1_macro = np.zeros(len(myrange))\n",
    "    dataset_prop = np.zeros(len(myrange))\n",
    "    class_prop = np.zeros(len(myrange))\n",
    "\n",
    "    # Calculate evaluation metrics for each precision value\n",
    "    for i, p_aim in enumerate(tqdm(myrange, desc='Processing')):\n",
    "        masked_data =mask_creater(p_aim,data)\n",
    "\n",
    "        dataset_prop[i] = len(masked_data) / len(data)\n",
    "        class_prop[i] = len(np.unique(masked_data[\"top1\"])) / len(np.unique(data[\"top1\"]))\n",
    "        acc[i] = accuracy_score(y_true=masked_data[\"true_label\"], y_pred=masked_data[\"top1\"])#, average=\"weighted\")\n",
    "        pr_weighted[i] = precision_score(y_true=masked_data[\"true_label\"], y_pred=masked_data[\"top1\"], average=\"weighted\")\n",
    "        rec_weighted[i] = recall_score(y_true=masked_data[\"true_label\"], y_pred=masked_data[\"top1\"], average=\"weighted\")\n",
    "        f1_weighted[i] = f1_score(y_true=masked_data[\"true_label\"], y_pred=masked_data[\"top1\"], average=\"weighted\")\n",
    "        # pr_macro[i] = precision_score(y_true=masked_data[\"true_label\"], y_pred=masked_data[\"top1\"], average=\"macro\", zero_division=1)\n",
    "        # rec_macro[i] = recall_score(y_true=masked_data[\"true_label\"], y_pred=masked_data[\"top1\"], average=\"macro\", zero_division=1)\n",
    "        # f1_macro[i] = f1_score(y_true=masked_data[\"true_label\"], y_pred=masked_data[\"top1\"], average=\"macro\", zero_division=1)\n",
    "        # acc[i] = accuracy_score(y_true=masked_data[\"true_label\"], y_pred=masked_data[\"top1\"])\n",
    "        # pr_micro[i] = precision_score(y_true=masked_data[\"true_label\"], y_pred=masked_data[\"top1\"], average=\"micro\",)\n",
    "        # rec_micro[i] = recall_score(y_true=masked_data[\"true_label\"], y_pred=masked_data[\"top1\"], average=\"micro\")\n",
    "        # f1_micro[i] = f1_score(y_true=masked_data[\"true_label\"], y_pred=masked_data[\"top1\"], average=\"micro\")\n",
    "        # pr_macro[i] = precision_score(y_true=masked_data[\"true_label\"], y_pred=masked_data[\"top1\"], average=\"macro\", zero_division=1)\n",
    "        # rec_macro[i] = recall_score(y_true=masked_data[\"true_label\"], y_pred=masked_data[\"top1\"], average=\"macro\", zero_division=1)\n",
    "        # f1_macro[i] = f1_score(y_true=masked_data[\"true_label\"], y_pred=masked_data[\"top1\"], average=\"macro\", zero_division=1)\n",
    "\n",
    "    print(\"done!\")\n",
    "\n",
    "    # Create a DataFrame to show the evaluation metrics for different precision values\n",
    "    show_data = pd.DataFrame({\n",
    "        \"Accuracy\": acc,\n",
    "        \"Precision (weighted)\": pr_weighted,\n",
    "        \"Recall (weighted)\": rec_weighted,\n",
    "        \"F1 Score (weighted)\": f1_weighted,\n",
    "        \"Dataset Proportion\": dataset_prop,\n",
    "        \"Class Proportion\": class_prop\n",
    "    }, index=myrange)\n",
    "\n",
    "    # Plot the evaluation metrics\n",
    "    plt.figure(figsize=(12, 8))\n",
    "    \n",
    "    # Define custom colors for each metric line\n",
    "    colors = [\"#1f77b4\", \"#ff7f0e\", \"#2ca02c\", \"#d62728\", \"#9467bd\", \"#8c564b\"]#, \"#e377c2\", \"#7f7f7f\", \"#bcbd22\", \"#17becf\"]\n",
    "\n",
    "    # Plot each metric with a different color and line style\n",
    "    for i, metric in enumerate(show_data.columns):\n",
    "        if metric in [\"Dataset Proportion\", \"Class Proportion\"]:\n",
    "            plt.plot(show_data.index, show_data[metric], marker='o', linestyle='--', color=colors[i], label=metric, alpha=0.7)\n",
    "        elif metric==\"Accuracy\":\n",
    "            # print(show_data[metric])\n",
    "            plt.plot(show_data.index, show_data[metric], marker='x', color=colors[i], label=metric, alpha=1,markersize=10)\n",
    "        else:\n",
    "            plt.plot(show_data.index, show_data[metric], marker='o', color=colors[i], label=metric, alpha=0.7)\n",
    "\n",
    "    plt.title(\"Scores on after masking increasing thresholds\")\n",
    "    plt.xlabel(\"Probability Threshold \")\n",
    "    plt.xticks(rotation=45)\n",
    "    # plt.yticks(np.arange(0, 1.1, 0.1))\n",
    "    plt.legend()\n",
    "    plt.tight_layout()\n",
    "\n",
    "    # Save the plot\n",
    "    filename = os.path.join(pred_path, \"summary_threshold_plot.jpg\")\n",
    "    plt.savefig(filename)\n",
    "    print(\"Saved in\", filename)\n",
    "    plt.show()\n"
   ]
  },
  {
   "cell_type": "code",
   "execution_count": 52,
   "metadata": {},
   "outputs": [
    {
     "data": {
      "text/plain": [
       "432"
      ]
     },
     "execution_count": 52,
     "metadata": {},
     "output_type": "execute_result"
    }
   ],
   "source": [
    "len(data)"
   ]
  },
  {
   "cell_type": "code",
   "execution_count": 50,
   "metadata": {},
   "outputs": [
    {
     "data": {
      "text/plain": [
       "1064899"
      ]
     },
     "execution_count": 50,
     "metadata": {},
     "output_type": "execute_result"
    }
   ],
   "source": [
    "len(data)"
   ]
  },
  {
   "cell_type": "code",
   "execution_count": 6,
   "metadata": {},
   "outputs": [
    {
     "name": "stderr",
     "output_type": "stream",
     "text": [
      "Processing:   0%|          | 0/55 [00:00<?, ?it/s]"
     ]
    },
    {
     "name": "stderr",
     "output_type": "stream",
     "text": [
      "Processing: 100%|██████████| 55/55 [42:45<00:00, 46.65s/it]\n"
     ]
    },
    {
     "name": "stdout",
     "output_type": "stream",
     "text": [
      "done!\n",
      "Saved in /srv/phyto-plankton-classification/models/2023-11-30_112451/results/summary_threshold/saved_0.5/summary_threshold_plot.jpg\n"
     ]
    },
    {
     "data": {
      "image/png": "[encoded data removed]",
      "text/plain": [
       "<Figure size 864x576 with 1 Axes>"
      ]
     },
     "metadata": {
      "needs_background": "light"
     },
     "output_type": "display_data"
    }
   ],
   "source": [
    "plot_summary_threshold(data,comments=\"saved_0.5\")"
   ]
  },
  {
   "cell_type": "code",
   "execution_count": 59,
   "metadata": {},
   "outputs": [
    {
     "name": "stderr",
     "output_type": "stream",
     "text": [
      "Processing:   0%|          | 0/15 [00:00<?, ?it/s]"
     ]
    },
    {
     "name": "stderr",
     "output_type": "stream",
     "text": [
      "Processing: 100%|██████████| 15/15 [07:11<00:00, 28.75s/it]\n"
     ]
    },
    {
     "name": "stdout",
     "output_type": "stream",
     "text": [
      "done!\n",
      "Saved in /srv/phyto-plankton-classification/models/2023-06-05_143422/results/summary_threshold/saved/summary_threshold_plot.jpg\n"
     ]
    },
    {
     "data": {
      "image/png": "[encoded data removed]",
      "text/plain": [
       "<Figure size 864x576 with 1 Axes>"
      ]
     },
     "metadata": {
      "needs_background": "light"
     },
     "output_type": "display_data"
    }
   ],
   "source": [
    "plot_summary_threshold(data,comments=\"saved\")"
   ]
  },
  {
   "attachments": {},
   "cell_type": "markdown",
   "metadata": {},
   "source": [
    "Confusion Matrix"
   ]
  },
  {
   "cell_type": "code",
   "execution_count": 23,
   "metadata": {},
   "outputs": [
    {
     "name": "stdout",
     "output_type": "stream",
     "text": [
      "[2023-07-06 07:28:54] Plotting Confusion Matrix for 0.0\n",
      "[2023-07-06 07:28:56] Plotting Confusion Matrix for 0.25\n",
      "[2023-07-06 07:28:59] Plotting Confusion Matrix for 0.5\n",
      "[2023-07-06 07:29:01] Plotting Confusion Matrix for 0.75\n",
      "Saved in /srv/phyto-plankton-classification/models/2023-06-05_143422/results/confusion/confusion_aimed\n"
     ]
    }
   ],
   "source": [
    "p_aim = 0.95\n",
    "masked_data =mask_creater(p_aim,data)\n",
    "plot_confusion_matrices( masked_data, save_path=None)"
   ]
  },
  {
   "cell_type": "code",
   "execution_count": 126,
   "metadata": {},
   "outputs": [
    {
     "data": {
      "image/png": "[encoded data removed]",
      "text/plain": [
       "<Figure size 1152x432 with 2 Axes>"
      ]
     },
     "metadata": {
      "needs_background": "light"
     },
     "output_type": "display_data"
    }
   ],
   "source": [
    "\n",
    "data\n",
    "# Define the range for iterations\n",
    "myrange = np.arange(0, 1, 0.02)\n",
    "z=0\n",
    "for cl in np.unique(data[\"top1\"]):\n",
    "    compo = pd.DataFrame(data[data['top1'] == cl][\"true_label\"].value_counts())\n",
    "    for j, i in enumerate(myrange):\n",
    "        slice = data[data[\"probability\"] > i]\n",
    "        x = slice[slice['top1']==cl][\"true_label\"].value_counts()\n",
    "        compo[str(j)] = x\n",
    "\n",
    "    compo = compo.drop(\"true_label\", axis=1)\n",
    "    plotdata = compo / compo.sum()\n",
    "    perc_data = plotdata[plotdata > 0.01] * 100\n",
    "    total = compo[plotdata > 0.01]\n",
    "    z+=1\n",
    "    if z==9:\n",
    "        break\n",
    "    # find_cut=[]\n",
    "    # for i in myrange:\n",
    "    #     find_cut.append(perc_data[i][0]*np.sum(total))\n",
    "\n",
    "\n",
    "    \n",
    "try:\n",
    "    compo = compo.drop(\"true_label\", axis=1)\n",
    "except:\n",
    "    pass\n",
    "plotdata = compo / compo.sum()\n",
    "plotdata1 = plotdata[plotdata > 0.01] * 100\n",
    "plotdata2 = compo[plotdata > 0.01]\n",
    "plotdata1.columns = myrange\n",
    "plotdata2.columns = myrange\n",
    "fig, axs = plt.subplots(1, 2, figsize=(16, 6))\n",
    "plotdata1.dropna(how=\"all\").transpose().plot.area(ax=axs[0], legend=False,\n",
    "                                                        title=\"proportional progression of TRUE class distribution\",\n",
    "                                                        xlabel=\"Cutoff value for probability\",\n",
    "                                                        ylabel=\"Class proportion (%)\")\n",
    "plotdata2.dropna(how=\"all\").transpose().plot.area(ax=axs[1],\n",
    "                                                        title=\"absolute progression of TRUE class distribution\",\n",
    "                                                        xlabel=\"Cutoff value for probability\",\n",
    "                                                        ylabel=\"Class count\")\n",
    "plotdata2=plotdata2.fillna(0)\n",
    "tot=pd.DataFrame(data[data['top1'] == cl][\"true_label\"].value_counts()).loc[cl]\n",
    "find_cut=[]\n",
    "for iter,value in enumerate(plotdata.loc[cl]):\n",
    "    left=(plotdata2.iloc[:,iter].values[0])\n",
    "    find_cut.append((left*tot).values[0])\n",
    "        "
   ]
  },
  {
   "cell_type": "code",
   "execution_count": 127,
   "metadata": {},
   "outputs": [],
   "source": [
    "find_cut=find_cut\n",
    "max_index = find_cut.index(max(find_cut))"
   ]
  },
  {
   "cell_type": "code",
   "execution_count": 130,
   "metadata": {},
   "outputs": [
    {
     "data": {
      "text/plain": [
       "[64,\n",
       " 64,\n",
       " 64,\n",
       " 64,\n",
       " 64,\n",
       " 64,\n",
       " 64,\n",
       " 64,\n",
       " 64,\n",
       " 64,\n",
       " 56,\n",
       " 48.0,\n",
       " 48.0,\n",
       " 48.0,\n",
       " 48.0,\n",
       " 48.0,\n",
       " 48.0,\n",
       " 48.0,\n",
       " 48.0,\n",
       " 48.0,\n",
       " 48.0,\n",
       " 48.0,\n",
       " 48.0,\n",
       " 48.0,\n",
       " 40.0,\n",
       " 40.0,\n",
       " 32.0,\n",
       " 32.0,\n",
       " 32.0,\n",
       " 32.0,\n",
       " 24.0,\n",
       " 24.0,\n",
       " 24.0,\n",
       " 24.0,\n",
       " 24.0,\n",
       " 24.0,\n",
       " 24.0,\n",
       " 24.0,\n",
       " 16.0,\n",
       " 16.0,\n",
       " 16.0,\n",
       " 16.0,\n",
       " 16.0,\n",
       " 16.0,\n",
       " 0.0,\n",
       " 0.0,\n",
       " 0.0,\n",
       " 0.0,\n",
       " 0.0,\n",
       " 0.0]"
      ]
     },
     "execution_count": 130,
     "metadata": {},
     "output_type": "execute_result"
    }
   ],
   "source": [
    "find_cut"
   ]
  },
  {
   "cell_type": "code",
   "execution_count": 125,
   "metadata": {},
   "outputs": [
    {
     "data": {
      "text/plain": [
       "[array([64]),\n",
       " array([64]),\n",
       " array([64]),\n",
       " array([64]),\n",
       " array([64]),\n",
       " array([64]),\n",
       " array([64]),\n",
       " array([64]),\n",
       " array([64]),\n",
       " array([64]),\n",
       " array([56]),\n",
       " array([48.]),\n",
       " array([48.]),\n",
       " array([48.]),\n",
       " array([48.]),\n",
       " array([48.]),\n",
       " array([48.]),\n",
       " array([48.]),\n",
       " array([48.]),\n",
       " array([48.]),\n",
       " array([48.]),\n",
       " array([48.]),\n",
       " array([48.]),\n",
       " array([48.]),\n",
       " array([40.]),\n",
       " array([40.]),\n",
       " array([32.]),\n",
       " array([32.]),\n",
       " array([32.]),\n",
       " array([32.]),\n",
       " array([24.]),\n",
       " array([24.]),\n",
       " array([24.]),\n",
       " array([24.]),\n",
       " array([24.]),\n",
       " array([24.]),\n",
       " array([24.]),\n",
       " array([24.]),\n",
       " array([16.]),\n",
       " array([16.]),\n",
       " array([16.]),\n",
       " array([16.]),\n",
       " array([16.]),\n",
       " array([16.]),\n",
       " array([0.]),\n",
       " array([0.]),\n",
       " array([0.]),\n",
       " array([0.]),\n",
       " array([0.]),\n",
       " array([0.])]"
      ]
     },
     "execution_count": 125,
     "metadata": {},
     "output_type": "execute_result"
    }
   ],
   "source": [
    "find_cut"
   ]
  },
  {
   "cell_type": "code",
   "execution_count": 21,
   "metadata": {},
   "outputs": [
    {
     "data": {
      "text/plain": [
       "<AxesSubplot:title={'center':'absolute progression of TRUE class distribution'}, xlabel='Cutoff value for probability', ylabel='Class count'>"
      ]
     },
     "execution_count": 21,
     "metadata": {},
     "output_type": "execute_result"
    },
    {
     "data": {
      "image/png": "[encoded data removed]",
      "text/plain": [
       "<Figure size 1152x432 with 2 Axes>"
      ]
     },
     "metadata": {
      "needs_background": "light"
     },
     "output_type": "display_data"
    }
   ],
   "source": [
    "# compo = compo.drop(\"true_label\", axis=1)\n",
    "plotdata = compo / compo.sum()\n",
    "plotdata1 = plotdata[plotdata > 0.01] * 100\n",
    "plotdata2 = compo[plotdata > 0.01]\n",
    "plotdata1.columns = myrange\n",
    "plotdata2.columns = myrange\n",
    "fig, axs = plt.subplots(1, 2, figsize=(16, 6))\n",
    "plotdata1.dropna(how=\"all\").transpose().plot.area(ax=axs[0], legend=False,\n",
    "                                                        title=\"proportional progression of TRUE class distribution\",\n",
    "                                                        xlabel=\"Cutoff value for probability\",\n",
    "                                                        ylabel=\"Class proportion (%)\")\n",
    "plotdata2.dropna(how=\"all\").transpose().plot.area(ax=axs[1],\n",
    "                                                        title=\"absolute progression of TRUE class distribution\",\n",
    "                                                        xlabel=\"Cutoff value for probability\",\n",
    "                                                        ylabel=\"Class count\")"
   ]
  },
  {
   "cell_type": "code",
   "execution_count": 37,
   "metadata": {},
   "outputs": [
    {
     "data": {
      "text/plain": [
       "8"
      ]
     },
     "execution_count": 37,
     "metadata": {},
     "output_type": "execute_result"
    }
   ],
   "source": [
    "np.sum(plotdata2[0.00].values)\n",
    "np.sum(plotdata2.iloc[:,0].values)"
   ]
  },
  {
   "cell_type": "code",
   "execution_count": 61,
   "metadata": {},
   "outputs": [
    {
     "data": {
      "text/plain": [
       "'Asterionellopsis_glacialis'"
      ]
     },
     "execution_count": 61,
     "metadata": {},
     "output_type": "execute_result"
    }
   ],
   "source": [
    "cl"
   ]
  },
  {
   "cell_type": "code",
   "execution_count": 63,
   "metadata": {},
   "outputs": [
    {
     "data": {
      "text/plain": [
       "true_label    7\n",
       "Name: Asterionellopsis_glacialis, dtype: int64"
      ]
     },
     "execution_count": 63,
     "metadata": {},
     "output_type": "execute_result"
    }
   ],
   "source": [
    "pd.DataFrame(data[data['top1'] == cl][\"true_label\"].value_counts()).loc[cl]"
   ]
  },
  {
   "cell_type": "code",
   "execution_count": 43,
   "metadata": {},
   "outputs": [
    {
     "data": {
      "text/plain": [
       "true_label    1.0\n",
       "dtype: float64"
      ]
     },
     "execution_count": 43,
     "metadata": {},
     "output_type": "execute_result"
    }
   ],
   "source": [
    "np.sum(plotdata2.iloc[:,0].values)/np.sum(pd.DataFrame(data[data['top1'] == cl][\"true_label\"].value_counts()))"
   ]
  },
  {
   "cell_type": "code",
   "execution_count": 53,
   "metadata": {},
   "outputs": [],
   "source": [
    "plotdata2=plotdata2.fillna(0)\n"
   ]
  },
  {
   "cell_type": "code",
   "execution_count": 66,
   "metadata": {},
   "outputs": [
    {
     "data": {
      "text/html": [
       "<div>\n",
       "<style scoped>\n",
       "    .dataframe tbody tr th:only-of-type {\n",
       "        vertical-align: middle;\n",
       "    }\n",
       "\n",
       "    .dataframe tbody tr th {\n",
       "        vertical-align: top;\n",
       "    }\n",
       "\n",
       "    .dataframe thead th {\n",
       "        text-align: right;\n",
       "    }\n",
       "</style>\n",
       "<table border=\"1\" class=\"dataframe\">\n",
       "  <thead>\n",
       "    <tr style=\"text-align: right;\">\n",
       "      <th></th>\n",
       "      <th>0</th>\n",
       "      <th>1</th>\n",
       "      <th>2</th>\n",
       "      <th>3</th>\n",
       "      <th>4</th>\n",
       "      <th>5</th>\n",
       "      <th>6</th>\n",
       "      <th>7</th>\n",
       "      <th>8</th>\n",
       "      <th>9</th>\n",
       "      <th>...</th>\n",
       "      <th>40</th>\n",
       "      <th>41</th>\n",
       "      <th>42</th>\n",
       "      <th>43</th>\n",
       "      <th>44</th>\n",
       "      <th>45</th>\n",
       "      <th>46</th>\n",
       "      <th>47</th>\n",
       "      <th>48</th>\n",
       "      <th>49</th>\n",
       "    </tr>\n",
       "  </thead>\n",
       "  <tbody>\n",
       "    <tr>\n",
       "      <th>Asterionellopsis_glacialis</th>\n",
       "      <td>0.875</td>\n",
       "      <td>0.875</td>\n",
       "      <td>0.875</td>\n",
       "      <td>0.875</td>\n",
       "      <td>0.875</td>\n",
       "      <td>0.875</td>\n",
       "      <td>0.875</td>\n",
       "      <td>0.875</td>\n",
       "      <td>0.875</td>\n",
       "      <td>0.875</td>\n",
       "      <td>...</td>\n",
       "      <td>1.0</td>\n",
       "      <td>1.0</td>\n",
       "      <td>1.0</td>\n",
       "      <td>1.0</td>\n",
       "      <td>1.0</td>\n",
       "      <td>1.0</td>\n",
       "      <td>1.0</td>\n",
       "      <td>1.0</td>\n",
       "      <td>1.0</td>\n",
       "      <td>1.0</td>\n",
       "    </tr>\n",
       "    <tr>\n",
       "      <th>Helicotheca_tamesis</th>\n",
       "      <td>0.125</td>\n",
       "      <td>0.125</td>\n",
       "      <td>0.125</td>\n",
       "      <td>0.125</td>\n",
       "      <td>0.125</td>\n",
       "      <td>0.125</td>\n",
       "      <td>0.125</td>\n",
       "      <td>0.125</td>\n",
       "      <td>0.125</td>\n",
       "      <td>0.125</td>\n",
       "      <td>...</td>\n",
       "      <td>NaN</td>\n",
       "      <td>NaN</td>\n",
       "      <td>NaN</td>\n",
       "      <td>NaN</td>\n",
       "      <td>NaN</td>\n",
       "      <td>NaN</td>\n",
       "      <td>NaN</td>\n",
       "      <td>NaN</td>\n",
       "      <td>NaN</td>\n",
       "      <td>NaN</td>\n",
       "    </tr>\n",
       "  </tbody>\n",
       "</table>\n",
       "<p>2 rows × 50 columns</p>\n",
       "</div>"
      ],
      "text/plain": [
       "                                0      1      2      3      4      5      6  \\\n",
       "Asterionellopsis_glacialis  0.875  0.875  0.875  0.875  0.875  0.875  0.875   \n",
       "Helicotheca_tamesis         0.125  0.125  0.125  0.125  0.125  0.125  0.125   \n",
       "\n",
       "                                7      8      9  ...   40   41   42   43   44  \\\n",
       "Asterionellopsis_glacialis  0.875  0.875  0.875  ...  1.0  1.0  1.0  1.0  1.0   \n",
       "Helicotheca_tamesis         0.125  0.125  0.125  ...  NaN  NaN  NaN  NaN  NaN   \n",
       "\n",
       "                             45   46   47   48   49  \n",
       "Asterionellopsis_glacialis  1.0  1.0  1.0  1.0  1.0  \n",
       "Helicotheca_tamesis         NaN  NaN  NaN  NaN  NaN  \n",
       "\n",
       "[2 rows x 50 columns]"
      ]
     },
     "execution_count": 66,
     "metadata": {},
     "output_type": "execute_result"
    }
   ],
   "source": [
    "plotdata"
   ]
  },
  {
   "cell_type": "code",
   "execution_count": 68,
   "metadata": {},
   "outputs": [
    {
     "data": {
      "text/plain": [
       "7.0"
      ]
     },
     "execution_count": 68,
     "metadata": {},
     "output_type": "execute_result"
    }
   ],
   "source": [
    "np.sum(plotdata2.iloc[:,iter].values)"
   ]
  },
  {
   "cell_type": "code",
   "execution_count": 69,
   "metadata": {},
   "outputs": [
    {
     "data": {
      "text/html": [
       "<div>\n",
       "<style scoped>\n",
       "    .dataframe tbody tr th:only-of-type {\n",
       "        vertical-align: middle;\n",
       "    }\n",
       "\n",
       "    .dataframe tbody tr th {\n",
       "        vertical-align: top;\n",
       "    }\n",
       "\n",
       "    .dataframe thead th {\n",
       "        text-align: right;\n",
       "    }\n",
       "</style>\n",
       "<table border=\"1\" class=\"dataframe\">\n",
       "  <thead>\n",
       "    <tr style=\"text-align: right;\">\n",
       "      <th></th>\n",
       "      <th>0.00</th>\n",
       "      <th>0.02</th>\n",
       "      <th>0.04</th>\n",
       "      <th>0.06</th>\n",
       "      <th>0.08</th>\n",
       "      <th>0.10</th>\n",
       "      <th>0.12</th>\n",
       "      <th>0.14</th>\n",
       "      <th>0.16</th>\n",
       "      <th>0.18</th>\n",
       "      <th>...</th>\n",
       "      <th>0.80</th>\n",
       "      <th>0.82</th>\n",
       "      <th>0.84</th>\n",
       "      <th>0.86</th>\n",
       "      <th>0.88</th>\n",
       "      <th>0.90</th>\n",
       "      <th>0.92</th>\n",
       "      <th>0.94</th>\n",
       "      <th>0.96</th>\n",
       "      <th>0.98</th>\n",
       "    </tr>\n",
       "  </thead>\n",
       "  <tbody>\n",
       "    <tr>\n",
       "      <th>Asterionellopsis_glacialis</th>\n",
       "      <td>7</td>\n",
       "      <td>7</td>\n",
       "      <td>7</td>\n",
       "      <td>7</td>\n",
       "      <td>7</td>\n",
       "      <td>7</td>\n",
       "      <td>7</td>\n",
       "      <td>7</td>\n",
       "      <td>7</td>\n",
       "      <td>7</td>\n",
       "      <td>...</td>\n",
       "      <td>7.0</td>\n",
       "      <td>7.0</td>\n",
       "      <td>7.0</td>\n",
       "      <td>7.0</td>\n",
       "      <td>7.0</td>\n",
       "      <td>7.0</td>\n",
       "      <td>7.0</td>\n",
       "      <td>7.0</td>\n",
       "      <td>7.0</td>\n",
       "      <td>7.0</td>\n",
       "    </tr>\n",
       "    <tr>\n",
       "      <th>Helicotheca_tamesis</th>\n",
       "      <td>1</td>\n",
       "      <td>1</td>\n",
       "      <td>1</td>\n",
       "      <td>1</td>\n",
       "      <td>1</td>\n",
       "      <td>1</td>\n",
       "      <td>1</td>\n",
       "      <td>1</td>\n",
       "      <td>1</td>\n",
       "      <td>1</td>\n",
       "      <td>...</td>\n",
       "      <td>0.0</td>\n",
       "      <td>0.0</td>\n",
       "      <td>0.0</td>\n",
       "      <td>0.0</td>\n",
       "      <td>0.0</td>\n",
       "      <td>0.0</td>\n",
       "      <td>0.0</td>\n",
       "      <td>0.0</td>\n",
       "      <td>0.0</td>\n",
       "      <td>0.0</td>\n",
       "    </tr>\n",
       "  </tbody>\n",
       "</table>\n",
       "<p>2 rows × 50 columns</p>\n",
       "</div>"
      ],
      "text/plain": [
       "                            0.00  0.02  0.04  0.06  0.08  0.10  0.12  0.14  \\\n",
       "Asterionellopsis_glacialis     7     7     7     7     7     7     7     7   \n",
       "Helicotheca_tamesis            1     1     1     1     1     1     1     1   \n",
       "\n",
       "                            0.16  0.18  ...  0.80  0.82  0.84  0.86  0.88  \\\n",
       "Asterionellopsis_glacialis     7     7  ...   7.0   7.0   7.0   7.0   7.0   \n",
       "Helicotheca_tamesis            1     1  ...   0.0   0.0   0.0   0.0   0.0   \n",
       "\n",
       "                            0.90  0.92  0.94  0.96  0.98  \n",
       "Asterionellopsis_glacialis   7.0   7.0   7.0   7.0   7.0  \n",
       "Helicotheca_tamesis          0.0   0.0   0.0   0.0   0.0  \n",
       "\n",
       "[2 rows x 50 columns]"
      ]
     },
     "execution_count": 69,
     "metadata": {},
     "output_type": "execute_result"
    }
   ],
   "source": [
    "plotdata2"
   ]
  },
  {
   "cell_type": "code",
   "execution_count": 112,
   "metadata": {},
   "outputs": [
    {
     "name": "stdout",
     "output_type": "stream",
     "text": [
      "0.875 7 6.125\n",
      "0.875 7 6.125\n",
      "0.875 7 6.125\n",
      "0.875 7 6.125\n",
      "0.875 7 6.125\n",
      "0.875 7 6.125\n",
      "0.875 7 6.125\n",
      "0.875 7 6.125\n",
      "0.875 7 6.125\n",
      "0.875 7 6.125\n",
      "1.0 7.0 7.0\n",
      "1.0 7.0 7.0\n",
      "1.0 7.0 7.0\n",
      "1.0 7.0 7.0\n",
      "1.0 7.0 7.0\n",
      "1.0 7.0 7.0\n",
      "1.0 7.0 7.0\n",
      "1.0 7.0 7.0\n",
      "1.0 7.0 7.0\n",
      "1.0 7.0 7.0\n",
      "1.0 7.0 7.0\n",
      "1.0 7.0 7.0\n",
      "1.0 7.0 7.0\n",
      "1.0 7.0 7.0\n",
      "1.0 7.0 7.0\n",
      "1.0 7.0 7.0\n",
      "1.0 7.0 7.0\n",
      "1.0 7.0 7.0\n",
      "1.0 7.0 7.0\n",
      "1.0 7.0 7.0\n",
      "1.0 7.0 7.0\n",
      "1.0 7.0 7.0\n",
      "1.0 7.0 7.0\n",
      "1.0 7.0 7.0\n",
      "1.0 7.0 7.0\n",
      "1.0 7.0 7.0\n",
      "1.0 7.0 7.0\n",
      "1.0 7.0 7.0\n",
      "1.0 7.0 7.0\n",
      "1.0 7.0 7.0\n",
      "1.0 7.0 7.0\n",
      "1.0 7.0 7.0\n",
      "1.0 7.0 7.0\n",
      "1.0 7.0 7.0\n",
      "1.0 7.0 7.0\n",
      "1.0 7.0 7.0\n",
      "1.0 7.0 7.0\n",
      "1.0 7.0 7.0\n",
      "1.0 7.0 7.0\n",
      "1.0 7.0 7.0\n"
     ]
    }
   ],
   "source": [
    "tot=pd.DataFrame(data[data['top1'] == cl][\"true_label\"].value_counts()).loc[cl]\n",
    "for iter,value in enumerate(plotdata.loc[cl]):\n",
    "    left=(plotdata2.iloc[:,iter].values[0])\n",
    "    "
   ]
  },
  {
   "cell_type": "code",
   "execution_count": 106,
   "metadata": {},
   "outputs": [
    {
     "data": {
      "text/plain": [
       "0.875"
      ]
     },
     "execution_count": 106,
     "metadata": {},
     "output_type": "execute_result"
    }
   ],
   "source": [
    "value"
   ]
  },
  {
   "cell_type": "code",
   "execution_count": 98,
   "metadata": {},
   "outputs": [
    {
     "data": {
      "text/plain": [
       "0.875"
      ]
     },
     "execution_count": 98,
     "metadata": {},
     "output_type": "execute_result"
    }
   ],
   "source": [
    "float(value)"
   ]
  },
  {
   "cell_type": "code",
   "execution_count": 105,
   "metadata": {},
   "outputs": [
    {
     "name": "stdout",
     "output_type": "stream",
     "text": [
      "1.1428571428571428 0.2678571428571428 1.3061224489795917\n"
     ]
    }
   ],
   "source": [
    "print(float(value) * float(left)* float(left),\n",
    "float(left) - float(value),\n",
    "float(left) / float(value))"
   ]
  },
  {
   "cell_type": "code",
   "execution_count": 11,
   "metadata": {},
   "outputs": [
    {
     "name": "stdout",
     "output_type": "stream",
     "text": [
      "Plotting proportional progression for Actinoptychus_senarius\n"
     ]
    }
   ],
   "source": [
    "# Define the range for iterations\n",
    "myrange = np.arange(0, 1, 0.02)\n",
    "\n",
    "# Create directory for saving results\n",
    "# pred_path = create_pred_path(save_path, dir=\"proportional_progression\",comments=comments)\n",
    "\n",
    "\n",
    "for cl in np.unique(data[\"top1\"]):\n",
    "    print(f\"Plotting proportional progression for {cl}\")\n",
    "    compo = pd.DataFrame(data[data['top1'] == cl][\"true_label\"].value_counts())\n",
    "    for j, i in enumerate(myrange):\n",
    "        slice = data[data[\"probability\"] > i]\n",
    "        x = slice[slice['top1']==cl][\"true_label\"].value_counts()\n",
    "        compo[str(j)] = x\n",
    "    break"
   ]
  },
  {
   "cell_type": "code",
   "execution_count": 12,
   "metadata": {},
   "outputs": [
    {
     "data": {
      "text/html": [
       "<div>\n",
       "<style scoped>\n",
       "    .dataframe tbody tr th:only-of-type {\n",
       "        vertical-align: middle;\n",
       "    }\n",
       "\n",
       "    .dataframe tbody tr th {\n",
       "        vertical-align: top;\n",
       "    }\n",
       "\n",
       "    .dataframe thead th {\n",
       "        text-align: right;\n",
       "    }\n",
       "</style>\n",
       "<table border=\"1\" class=\"dataframe\">\n",
       "  <thead>\n",
       "    <tr style=\"text-align: right;\">\n",
       "      <th></th>\n",
       "      <th>true_label</th>\n",
       "      <th>0</th>\n",
       "      <th>1</th>\n",
       "      <th>2</th>\n",
       "      <th>3</th>\n",
       "      <th>4</th>\n",
       "      <th>5</th>\n",
       "      <th>6</th>\n",
       "      <th>7</th>\n",
       "      <th>8</th>\n",
       "      <th>...</th>\n",
       "      <th>40</th>\n",
       "      <th>41</th>\n",
       "      <th>42</th>\n",
       "      <th>43</th>\n",
       "      <th>44</th>\n",
       "      <th>45</th>\n",
       "      <th>46</th>\n",
       "      <th>47</th>\n",
       "      <th>48</th>\n",
       "      <th>49</th>\n",
       "    </tr>\n",
       "  </thead>\n",
       "  <tbody>\n",
       "    <tr>\n",
       "      <th>Actinoptychus_senarius</th>\n",
       "      <td>8</td>\n",
       "      <td>8</td>\n",
       "      <td>8</td>\n",
       "      <td>8</td>\n",
       "      <td>8</td>\n",
       "      <td>8</td>\n",
       "      <td>8</td>\n",
       "      <td>8</td>\n",
       "      <td>8</td>\n",
       "      <td>8</td>\n",
       "      <td>...</td>\n",
       "      <td>7</td>\n",
       "      <td>7</td>\n",
       "      <td>7</td>\n",
       "      <td>7</td>\n",
       "      <td>7</td>\n",
       "      <td>5</td>\n",
       "      <td>5</td>\n",
       "      <td>4</td>\n",
       "      <td>3</td>\n",
       "      <td>2</td>\n",
       "    </tr>\n",
       "  </tbody>\n",
       "</table>\n",
       "<p>1 rows × 51 columns</p>\n",
       "</div>"
      ],
      "text/plain": [
       "                        true_label  0  1  2  3  4  5  6  7  8  ...  40  41  \\\n",
       "Actinoptychus_senarius           8  8  8  8  8  8  8  8  8  8  ...   7   7   \n",
       "\n",
       "                        42  43  44  45  46  47  48  49  \n",
       "Actinoptychus_senarius   7   7   7   5   5   4   3   2  \n",
       "\n",
       "[1 rows x 51 columns]"
      ]
     },
     "execution_count": 12,
     "metadata": {},
     "output_type": "execute_result"
    }
   ],
   "source": [
    "compo"
   ]
  },
  {
   "cell_type": "code",
   "execution_count": 6,
   "metadata": {},
   "outputs": [
    {
     "data": {
      "text/html": [
       "<div>\n",
       "<style scoped>\n",
       "    .dataframe tbody tr th:only-of-type {\n",
       "        vertical-align: middle;\n",
       "    }\n",
       "\n",
       "    .dataframe tbody tr th {\n",
       "        vertical-align: top;\n",
       "    }\n",
       "\n",
       "    .dataframe thead th {\n",
       "        text-align: right;\n",
       "    }\n",
       "</style>\n",
       "<table border=\"1\" class=\"dataframe\">\n",
       "  <thead>\n",
       "    <tr style=\"text-align: right;\">\n",
       "      <th></th>\n",
       "      <th>0</th>\n",
       "      <th>1</th>\n",
       "      <th>2</th>\n",
       "      <th>3</th>\n",
       "      <th>4</th>\n",
       "      <th>5</th>\n",
       "      <th>6</th>\n",
       "      <th>7</th>\n",
       "      <th>8</th>\n",
       "      <th>9</th>\n",
       "      <th>...</th>\n",
       "      <th>40</th>\n",
       "      <th>41</th>\n",
       "      <th>42</th>\n",
       "      <th>43</th>\n",
       "      <th>44</th>\n",
       "      <th>45</th>\n",
       "      <th>46</th>\n",
       "      <th>47</th>\n",
       "      <th>48</th>\n",
       "      <th>49</th>\n",
       "    </tr>\n",
       "  </thead>\n",
       "  <tbody>\n",
       "    <tr>\n",
       "      <th>Actinoptychus_senarius</th>\n",
       "      <td>100.0</td>\n",
       "      <td>100.0</td>\n",
       "      <td>100.0</td>\n",
       "      <td>100.0</td>\n",
       "      <td>100.0</td>\n",
       "      <td>100.0</td>\n",
       "      <td>100.0</td>\n",
       "      <td>100.0</td>\n",
       "      <td>100.0</td>\n",
       "      <td>100.0</td>\n",
       "      <td>...</td>\n",
       "      <td>100.0</td>\n",
       "      <td>100.0</td>\n",
       "      <td>100.0</td>\n",
       "      <td>100.0</td>\n",
       "      <td>100.0</td>\n",
       "      <td>100.0</td>\n",
       "      <td>100.0</td>\n",
       "      <td>100.0</td>\n",
       "      <td>100.0</td>\n",
       "      <td>100.0</td>\n",
       "    </tr>\n",
       "  </tbody>\n",
       "</table>\n",
       "<p>1 rows × 50 columns</p>\n",
       "</div>"
      ],
      "text/plain": [
       "                            0      1      2      3      4      5      6  \\\n",
       "Actinoptychus_senarius  100.0  100.0  100.0  100.0  100.0  100.0  100.0   \n",
       "\n",
       "                            7      8      9  ...     40     41     42     43  \\\n",
       "Actinoptychus_senarius  100.0  100.0  100.0  ...  100.0  100.0  100.0  100.0   \n",
       "\n",
       "                           44     45     46     47     48     49  \n",
       "Actinoptychus_senarius  100.0  100.0  100.0  100.0  100.0  100.0  \n",
       "\n",
       "[1 rows x 50 columns]"
      ]
     },
     "execution_count": 6,
     "metadata": {},
     "output_type": "execute_result"
    }
   ],
   "source": [
    "perc_data"
   ]
  },
  {
   "cell_type": "code",
   "execution_count": null,
   "metadata": {},
   "outputs": [],
   "source": [
    "\n",
    "def propose_cutoff(data, cl, p_aim=0.8, r_aim=0.8, step = 0.05):\n",
    "    i =0\n",
    "    p = 0\n",
    "    r = 0\n",
    "    while (p < p_aim or r < r_aim) and i < 1:\n",
    "        i += step\n",
    "        slice = data[data[\"probability\"] > i]\n",
    "        data_slice.append(np.sum(slice['top1'] == cl) / np.sum(data['top1'] == cl))\n",
    "        TPFP = np.sum(slice[\"top1\"] == cl)\n",
    "        TP = np.sum((slice[\"true_label\"] == cl) & (slice[\"top1\"] == cl))\n",
    "        TPFN = np.sum(slice[\"true_label\"] == cl)\n",
    "        p = TP / TPFP  # intuitively the ability of the classifier not to label as positive a sample that is negative\n",
    "        r = TP / TPFN  # intuitively the ability of the classifier to find all the positive samples"
   ]
  },
  {
   "cell_type": "code",
   "execution_count": null,
   "metadata": {},
   "outputs": [],
   "source": [
    "\\\\fs\\shared\\onderzoek\\6. Marine Observation Center\\Projects\\IMAGINE\\UC5\\ecotaxa_all_together_4.tsv"
   ]
  }
 ],
 "metadata": {
  "kernelspec": {
   "display_name": "Python 3",
   "language": "python",
   "name": "python3"
  },
  "language_info": {
   "codemirror_mode": {
    "name": "ipython",
    "version": 3
   },
   "file_extension": ".py",
   "mimetype": "text/x-python",
   "name": "python",
   "nbconvert_exporter": "python",
   "pygments_lexer": "ipython3",
   "version": "3.6.9"
  }
 },
 "nbformat": 4,
 "nbformat_minor": 2
}
