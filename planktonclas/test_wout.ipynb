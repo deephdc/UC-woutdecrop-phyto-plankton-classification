{
 "cells": [
  {
   "cell_type": "code",
   "execution_count": 2,
   "metadata": {},
   "outputs": [
    {
     "ename": "ModuleNotFoundError",
     "evalue": "No module named 'planktonclas'",
     "output_type": "error",
     "traceback": [
      "\u001b[0;31m---------------------------------------------------------------------------\u001b[0m",
      "\u001b[0;31mModuleNotFoundError\u001b[0m                       Traceback (most recent call last)",
      "\u001b[0;32m<ipython-input-2-e9ac6422cf01>\u001b[0m in \u001b[0;36m<module>\u001b[0;34m\u001b[0m\n\u001b[1;32m      1\u001b[0m \u001b[0;32mfrom\u001b[0m \u001b[0mdata_utils\u001b[0m \u001b[0;32mimport\u001b[0m \u001b[0mload_class_names\u001b[0m\u001b[0;34m,\u001b[0m \u001b[0mload_class_info\u001b[0m\u001b[0;34m,\u001b[0m \u001b[0mmount_nextcloud\u001b[0m\u001b[0;34m\u001b[0m\u001b[0;34m\u001b[0m\u001b[0m\n\u001b[0;32m----> 2\u001b[0;31m \u001b[0;32mfrom\u001b[0m \u001b[0mplanktonclas\u001b[0m \u001b[0;32mimport\u001b[0m \u001b[0mpaths\u001b[0m\u001b[0;34m,\u001b[0m \u001b[0mutils\u001b[0m\u001b[0;34m,\u001b[0m \u001b[0mconfig\u001b[0m\u001b[0;34m,\u001b[0m \u001b[0mtest_utils\u001b[0m\u001b[0;34m\u001b[0m\u001b[0;34m\u001b[0m\u001b[0m\n\u001b[0m",
      "\u001b[0;31mModuleNotFoundError\u001b[0m: No module named 'planktonclas'"
     ]
    }
   ],
   "source": [
    "from data_utils import load_class_names, load_class_info, mount_nextcloud\n",
    "from planktonclas import paths, utils, config, test_utils\n"
   ]
  },
  {
   "cell_type": "code",
   "execution_count": 3,
   "metadata": {},
   "outputs": [
    {
     "name": "stderr",
     "output_type": "stream",
     "text": [
      "/srv/phyto-plankton-classification/planktonclas/data_utils.py:74: UserWarning: Error while mounting NextCloud: b'2023/06/08 13:18:54 NOTICE: Config file \"/root/.config/rclone/rclone.conf\" not found - using defaults\\n2023/06/08 13:18:54 Failed to create file system for \"rshare:/data/dataset_files\": didn\\'t find section in config file\\n'\n",
      "  warnings.warn(\"Error while mounting NextCloud: {}\".format(error))\n"
     ]
    },
    {
     "data": {
      "text/plain": [
       "(b'',\n",
       " b'2023/06/08 13:18:54 NOTICE: Config file \"/root/.config/rclone/rclone.conf\" not found - using defaults\\n2023/06/08 13:18:54 Failed to create file system for \"rshare:/data/dataset_files\": didn\\'t find section in config file\\n')"
      ]
     },
     "execution_count": 3,
     "metadata": {},
     "output_type": "execute_result"
    }
   ],
   "source": [
    "mount_nextcloud('rshare:/data/dataset_files', paths.get_splits_dir())"
   ]
  }
 ],
 "metadata": {
  "kernelspec": {
   "display_name": "Python 3",
   "language": "python",
   "name": "python3"
  },
  "language_info": {
   "codemirror_mode": {
    "name": "ipython",
    "version": 3
   },
   "file_extension": ".py",
   "mimetype": "text/x-python",
   "name": "python",
   "nbconvert_exporter": "python",
   "pygments_lexer": "ipython3",
   "version": "3.6.8"
  },
  "orig_nbformat": 4
 },
 "nbformat": 4,
 "nbformat_minor": 2
}
